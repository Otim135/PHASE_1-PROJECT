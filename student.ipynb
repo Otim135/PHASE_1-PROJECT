{
 "cells": [
  {
   "cell_type": "markdown",
   "metadata": {},
   "source": [
    "\n",
    "# **Final Project Submission**\n",
    "\n",
    "1. Student name: ALFRED OTIENO\n",
    "2. Student pace: Part time\n",
    "3. Scheduled project Submission date/time: (07/09/2024)/2359Hrs\n",
    "4. Instructor name: William Okomba\n",
    "5. Blog post URL: https://github.com/Otim135/PHASE_1-PROJECT"
   ]
  },
  {
   "cell_type": "markdown",
   "metadata": {},
   "source": [
    "## **Project Overview**\n",
    "The objective of this project is to analyze historical aviation incident data to identify low-risk aircraft and provide actionable insights into the factors contributing to aviation incidents. By understanding these factors, the company can make informed decisions about which aircraft to purchase and implement strategies to minimize risks."
   ]
  },
  {
   "cell_type": "markdown",
   "metadata": {},
   "source": [
    "## **Business Understanding**\n",
    "\n",
    "* **Business Context**: Our company is looking to diversify its portfolio by entering the aviation industry. Specifically, the company is interested in purchasing and operating airplanes for both commercial and private enterprises. However, the company lacks expertise in aviation and is concerned about the potential risks associated with aircraft. The management needs a comprehensive understanding of these risks to make informed decisions about which aircraft to purchase and operate.\n",
    "\n",
    "* **Problem Statement**:\n",
    "We need to identify low-risk aircraft types, understand the trends and patterns in aviation incidents, and evaluate the impact of different factors such as weather conditions, flight phases, and aircraft age on incident rates.\n",
    "\n",
    "* **Metrics of Success**:\n",
    "\n",
    "  1. Identification of aircraft types with the lowest incident rates and severity.\n",
    "  2.  Understanding of incident trends over time and key contributing factors.\n",
    "  3. Insights into the impact of weather conditions, flight phases, and aircraft age on incident rates.\n",
    "\n",
    "### **Objectives**\n",
    "\n",
    "#### **1. Identify Low-Risk Aircraft Types**:\n",
    "\n",
    "* **Objective**: Determining which aircraft types have the lowest incident rates and severities.\n",
    "\n",
    "* **How?**:\n",
    "  * Analyzing historical incident data to find out incident rates for different aircraft types.\n",
    "  * Comparing the severity of incidents (e.g., injuries, fatalities) across different aircraft types.\n",
    "  * Identifying patterns and characteristics of low-risk aircraft.\n",
    "\n",
    "#### **2. Analyzing Incident Trends Over Time**:\n",
    "\n",
    "* **Objective**: Finding out how aviation incidents have changed over time and identify any trends.\n",
    "\n",
    "* **How?**:\n",
    "  * Conducting a time series analysis to examine the number of incidents per year.\n",
    "  * Identifying any seasonal trends related to specific months or periods.\n",
    "  * Using visualizations to illustrate these trends and make them easily understandable.\n",
    "\n",
    "#### **3. Assessing the Impact of Flight Phases on Incidents**:\n",
    "\n",
    "* **Objective**: Evaluating which phases of flight (e.g., takeoff or landing) are associated with higher risks and incidents.\n",
    "\n",
    "* **How?**:\n",
    "  * Categorizing incidents depending on the phase of flight during which they occurred.\n",
    "  * Analyzing the distribution of incidents across different flight phases.\n",
    "  * Assessing the severity of incidents for each flight phase to identify critical stages.\n",
    "\n",
    "#### **4. Investigating the Role of Weather Conditions in Incidents**:\n",
    "\n",
    "* **Objective**: Determining how weather conditions impact the likelihood and severity of incidents.\n",
    "\n",
    "* **How?**:\n",
    "  * Categorizing incidents by weather conditions (e.g., clear, cloudy, rainy).\n",
    "  * Analyzing the correlation between weather conditions and the frequency of incidents.\n",
    "  * Visualizing the impact of different weather conditions on the severity of incidents.\n",
    "\n",
    "#### **5. Evaluating Aircraft Age and Maintenance Factors**:\n",
    "\n",
    "* **Objective**: Assessing how the age of aircraft and maintenance-related issues influence incident rates and severities.\n",
    "\n",
    "* **How?**:\n",
    "  * Analyzing incidents based on the age of the aircraft involved.\n",
    "  * Identifying any patterns related to aircraft age and the likelihood of incidents.\n",
    "  * Examining maintenance-related causes and their impact on safety.\n",
    "\n",
    "#### **6. Geographical Analysis of Incidents**:\n",
    "\n",
    "* **Objective**: Understanding how incidents vary based on location and identifying high-risk areas.\n",
    "\n",
    "* **How?**:\n",
    "  * Mapping incidents to their geographical locations (e.g., country, state, region).\n",
    "  * Analyzing the distribution of incidents across different geographical areas.\n",
    "  * Identifying hotspots and areas with higher incident rates for targeted risk mitigation.\n",
    "\n",
    "#### **7. Identifying Common Incident Causes and Types**:\n",
    "\n",
    "* **Objective**: Determining the most common causes and types of incidents to focus on prevention and safety measures.\n",
    "\n",
    "* **How?**:\n",
    "  * Categorizing incidents based on their primary causes or types (e.g., mechanical failure, human error).\n",
    "  * Analyzing the frequency and severity of different incident causes.\n",
    "  * Providing insights into the most prevalent risks and recommendations for addressing them."
   ]
  },
  {
   "cell_type": "markdown",
   "metadata": {},
   "source": [
    "## **Data Understanding and Analysis**\n",
    "\n",
    "### **The Data**\n",
    "The dataset we are using for this project was drawn from Kaggle. It contains information from the National Transportation Safety Board (NTSB) aviation accident database, which includes data from 1962 and later about civil aviation accidents and selected incidents within the United States, its territories, and possessions, as well as in international waters. This dataset provides comprehensive insights into various factors involved in aviation incidents, including weather conditions, flight phases, aircraft types, and more.\n",
    "\n",
    "Source: Kaggle - NTSB Aviation Accident Database\n",
    "Content: The dataset covers civil aviation accidents and selected incidents, offering valuable information for analyzing and understanding aviation safety.\n",
    "By using this dataset, we aim to provide data-driven insights to support the company’s decision-making process in the aviation industry.\n",
    "\n",
    "\n",
    "\n",
    "\n",
    "\n",
    "\n",
    "\n"
   ]
  },
  {
   "cell_type": "markdown",
   "metadata": {},
   "source": [
    "\n",
    "### **Data Preparation and Cleaning**\n",
    "* **Objectives**\n",
    "\n",
    "  * Load files using python packages\n",
    "  * Look at information about data and column\n",
    "  * Fix any missing or incorrect value\n",
    "  * Ensure wanted observations are well structured."
   ]
  },
  {
   "cell_type": "markdown",
   "metadata": {},
   "source": [
    "### **Loading Python packages**"
   ]
  },
  {
   "cell_type": "code",
   "execution_count": 76,
   "metadata": {},
   "outputs": [],
   "source": [
    "# numpy for high level mathematical functions and working with Arrays\n",
    "import numpy as np\n",
    "# pandas data manipulation and analysis for dataframes\n",
    "import pandas as pd\n",
    "# seaborn and matplotlib for data visualization\n",
    "import seaborn as sns\n",
    "import matplotlib.pyplot as plt\n",
    "%matplotlib inline"
   ]
  },
  {
   "cell_type": "markdown",
   "metadata": {},
   "source": [
    "### **Loading the datasets**"
   ]
  },
  {
   "cell_type": "code",
   "execution_count": 77,
   "metadata": {},
   "outputs": [
    {
     "name": "stderr",
     "output_type": "stream",
     "text": [
      "c:\\Users\\USER\\anaconda3\\envs\\learn-env\\lib\\site-packages\\IPython\\core\\interactiveshell.py:3145: DtypeWarning: Columns (6,7,28) have mixed types.Specify dtype option on import or set low_memory=False.\n",
      "  has_raised = await self.run_ast_nodes(code_ast.body, cell_name,\n"
     ]
    }
   ],
   "source": [
    "# Loading the Aviation Data CSV file\n",
    "AviationData_File = 'AviationData.csv'\n",
    "aviation_data = pd.read_csv(AviationData_File, encoding='latin1')\n"
   ]
  },
  {
   "cell_type": "code",
   "execution_count": 78,
   "metadata": {},
   "outputs": [
    {
     "name": "stdout",
     "output_type": "stream",
     "text": [
      "<class 'pandas.core.frame.DataFrame'>\n",
      "RangeIndex: 88889 entries, 0 to 88888\n",
      "Data columns (total 31 columns):\n",
      " #   Column                  Non-Null Count  Dtype  \n",
      "---  ------                  --------------  -----  \n",
      " 0   Event.Id                88889 non-null  object \n",
      " 1   Investigation.Type      88889 non-null  object \n",
      " 2   Accident.Number         88889 non-null  object \n",
      " 3   Event.Date              88889 non-null  object \n",
      " 4   Location                88837 non-null  object \n",
      " 5   Country                 88663 non-null  object \n",
      " 6   Latitude                34382 non-null  object \n",
      " 7   Longitude               34373 non-null  object \n",
      " 8   Airport.Code            50249 non-null  object \n",
      " 9   Airport.Name            52790 non-null  object \n",
      " 10  Injury.Severity         87889 non-null  object \n",
      " 11  Aircraft.damage         85695 non-null  object \n",
      " 12  Aircraft.Category       32287 non-null  object \n",
      " 13  Registration.Number     87572 non-null  object \n",
      " 14  Make                    88826 non-null  object \n",
      " 15  Model                   88797 non-null  object \n",
      " 16  Amateur.Built           88787 non-null  object \n",
      " 17  Number.of.Engines       82805 non-null  float64\n",
      " 18  Engine.Type             81812 non-null  object \n",
      " 19  FAR.Description         32023 non-null  object \n",
      " 20  Schedule                12582 non-null  object \n",
      " 21  Purpose.of.flight       82697 non-null  object \n",
      " 22  Air.carrier             16648 non-null  object \n",
      " 23  Total.Fatal.Injuries    77488 non-null  float64\n",
      " 24  Total.Serious.Injuries  76379 non-null  float64\n",
      " 25  Total.Minor.Injuries    76956 non-null  float64\n",
      " 26  Total.Uninjured         82977 non-null  float64\n",
      " 27  Weather.Condition       84397 non-null  object \n",
      " 28  Broad.phase.of.flight   61724 non-null  object \n",
      " 29  Report.Status           82508 non-null  object \n",
      " 30  Publication.Date        75118 non-null  object \n",
      "dtypes: float64(5), object(26)\n",
      "memory usage: 21.0+ MB\n"
     ]
    },
    {
     "data": {
      "text/html": [
       "<div>\n",
       "<style scoped>\n",
       "    .dataframe tbody tr th:only-of-type {\n",
       "        vertical-align: middle;\n",
       "    }\n",
       "\n",
       "    .dataframe tbody tr th {\n",
       "        vertical-align: top;\n",
       "    }\n",
       "\n",
       "    .dataframe thead th {\n",
       "        text-align: right;\n",
       "    }\n",
       "</style>\n",
       "<table border=\"1\" class=\"dataframe\">\n",
       "  <thead>\n",
       "    <tr style=\"text-align: right;\">\n",
       "      <th></th>\n",
       "      <th>Event.Id</th>\n",
       "      <th>Investigation.Type</th>\n",
       "      <th>Accident.Number</th>\n",
       "      <th>Event.Date</th>\n",
       "      <th>Location</th>\n",
       "      <th>Country</th>\n",
       "      <th>Latitude</th>\n",
       "      <th>Longitude</th>\n",
       "      <th>Airport.Code</th>\n",
       "      <th>Airport.Name</th>\n",
       "      <th>...</th>\n",
       "      <th>Purpose.of.flight</th>\n",
       "      <th>Air.carrier</th>\n",
       "      <th>Total.Fatal.Injuries</th>\n",
       "      <th>Total.Serious.Injuries</th>\n",
       "      <th>Total.Minor.Injuries</th>\n",
       "      <th>Total.Uninjured</th>\n",
       "      <th>Weather.Condition</th>\n",
       "      <th>Broad.phase.of.flight</th>\n",
       "      <th>Report.Status</th>\n",
       "      <th>Publication.Date</th>\n",
       "    </tr>\n",
       "  </thead>\n",
       "  <tbody>\n",
       "    <tr>\n",
       "      <th>0</th>\n",
       "      <td>20001218X45444</td>\n",
       "      <td>Accident</td>\n",
       "      <td>SEA87LA080</td>\n",
       "      <td>1948-10-24</td>\n",
       "      <td>MOOSE CREEK, ID</td>\n",
       "      <td>United States</td>\n",
       "      <td>NaN</td>\n",
       "      <td>NaN</td>\n",
       "      <td>NaN</td>\n",
       "      <td>NaN</td>\n",
       "      <td>...</td>\n",
       "      <td>Personal</td>\n",
       "      <td>NaN</td>\n",
       "      <td>2.0</td>\n",
       "      <td>0.0</td>\n",
       "      <td>0.0</td>\n",
       "      <td>0.0</td>\n",
       "      <td>UNK</td>\n",
       "      <td>Cruise</td>\n",
       "      <td>Probable Cause</td>\n",
       "      <td>NaN</td>\n",
       "    </tr>\n",
       "    <tr>\n",
       "      <th>1</th>\n",
       "      <td>20001218X45447</td>\n",
       "      <td>Accident</td>\n",
       "      <td>LAX94LA336</td>\n",
       "      <td>1962-07-19</td>\n",
       "      <td>BRIDGEPORT, CA</td>\n",
       "      <td>United States</td>\n",
       "      <td>NaN</td>\n",
       "      <td>NaN</td>\n",
       "      <td>NaN</td>\n",
       "      <td>NaN</td>\n",
       "      <td>...</td>\n",
       "      <td>Personal</td>\n",
       "      <td>NaN</td>\n",
       "      <td>4.0</td>\n",
       "      <td>0.0</td>\n",
       "      <td>0.0</td>\n",
       "      <td>0.0</td>\n",
       "      <td>UNK</td>\n",
       "      <td>Unknown</td>\n",
       "      <td>Probable Cause</td>\n",
       "      <td>19-09-1996</td>\n",
       "    </tr>\n",
       "    <tr>\n",
       "      <th>2</th>\n",
       "      <td>20061025X01555</td>\n",
       "      <td>Accident</td>\n",
       "      <td>NYC07LA005</td>\n",
       "      <td>1974-08-30</td>\n",
       "      <td>Saltville, VA</td>\n",
       "      <td>United States</td>\n",
       "      <td>36.9222</td>\n",
       "      <td>-81.8781</td>\n",
       "      <td>NaN</td>\n",
       "      <td>NaN</td>\n",
       "      <td>...</td>\n",
       "      <td>Personal</td>\n",
       "      <td>NaN</td>\n",
       "      <td>3.0</td>\n",
       "      <td>NaN</td>\n",
       "      <td>NaN</td>\n",
       "      <td>NaN</td>\n",
       "      <td>IMC</td>\n",
       "      <td>Cruise</td>\n",
       "      <td>Probable Cause</td>\n",
       "      <td>26-02-2007</td>\n",
       "    </tr>\n",
       "    <tr>\n",
       "      <th>3</th>\n",
       "      <td>20001218X45448</td>\n",
       "      <td>Accident</td>\n",
       "      <td>LAX96LA321</td>\n",
       "      <td>1977-06-19</td>\n",
       "      <td>EUREKA, CA</td>\n",
       "      <td>United States</td>\n",
       "      <td>NaN</td>\n",
       "      <td>NaN</td>\n",
       "      <td>NaN</td>\n",
       "      <td>NaN</td>\n",
       "      <td>...</td>\n",
       "      <td>Personal</td>\n",
       "      <td>NaN</td>\n",
       "      <td>2.0</td>\n",
       "      <td>0.0</td>\n",
       "      <td>0.0</td>\n",
       "      <td>0.0</td>\n",
       "      <td>IMC</td>\n",
       "      <td>Cruise</td>\n",
       "      <td>Probable Cause</td>\n",
       "      <td>12-09-2000</td>\n",
       "    </tr>\n",
       "    <tr>\n",
       "      <th>4</th>\n",
       "      <td>20041105X01764</td>\n",
       "      <td>Accident</td>\n",
       "      <td>CHI79FA064</td>\n",
       "      <td>1979-08-02</td>\n",
       "      <td>Canton, OH</td>\n",
       "      <td>United States</td>\n",
       "      <td>NaN</td>\n",
       "      <td>NaN</td>\n",
       "      <td>NaN</td>\n",
       "      <td>NaN</td>\n",
       "      <td>...</td>\n",
       "      <td>Personal</td>\n",
       "      <td>NaN</td>\n",
       "      <td>1.0</td>\n",
       "      <td>2.0</td>\n",
       "      <td>NaN</td>\n",
       "      <td>0.0</td>\n",
       "      <td>VMC</td>\n",
       "      <td>Approach</td>\n",
       "      <td>Probable Cause</td>\n",
       "      <td>16-04-1980</td>\n",
       "    </tr>\n",
       "    <tr>\n",
       "      <th>...</th>\n",
       "      <td>...</td>\n",
       "      <td>...</td>\n",
       "      <td>...</td>\n",
       "      <td>...</td>\n",
       "      <td>...</td>\n",
       "      <td>...</td>\n",
       "      <td>...</td>\n",
       "      <td>...</td>\n",
       "      <td>...</td>\n",
       "      <td>...</td>\n",
       "      <td>...</td>\n",
       "      <td>...</td>\n",
       "      <td>...</td>\n",
       "      <td>...</td>\n",
       "      <td>...</td>\n",
       "      <td>...</td>\n",
       "      <td>...</td>\n",
       "      <td>...</td>\n",
       "      <td>...</td>\n",
       "      <td>...</td>\n",
       "      <td>...</td>\n",
       "    </tr>\n",
       "    <tr>\n",
       "      <th>88884</th>\n",
       "      <td>20221227106491</td>\n",
       "      <td>Accident</td>\n",
       "      <td>ERA23LA093</td>\n",
       "      <td>2022-12-26</td>\n",
       "      <td>Annapolis, MD</td>\n",
       "      <td>United States</td>\n",
       "      <td>NaN</td>\n",
       "      <td>NaN</td>\n",
       "      <td>NaN</td>\n",
       "      <td>NaN</td>\n",
       "      <td>...</td>\n",
       "      <td>Personal</td>\n",
       "      <td>NaN</td>\n",
       "      <td>0.0</td>\n",
       "      <td>1.0</td>\n",
       "      <td>0.0</td>\n",
       "      <td>0.0</td>\n",
       "      <td>NaN</td>\n",
       "      <td>NaN</td>\n",
       "      <td>NaN</td>\n",
       "      <td>29-12-2022</td>\n",
       "    </tr>\n",
       "    <tr>\n",
       "      <th>88885</th>\n",
       "      <td>20221227106494</td>\n",
       "      <td>Accident</td>\n",
       "      <td>ERA23LA095</td>\n",
       "      <td>2022-12-26</td>\n",
       "      <td>Hampton, NH</td>\n",
       "      <td>United States</td>\n",
       "      <td>NaN</td>\n",
       "      <td>NaN</td>\n",
       "      <td>NaN</td>\n",
       "      <td>NaN</td>\n",
       "      <td>...</td>\n",
       "      <td>NaN</td>\n",
       "      <td>NaN</td>\n",
       "      <td>0.0</td>\n",
       "      <td>0.0</td>\n",
       "      <td>0.0</td>\n",
       "      <td>0.0</td>\n",
       "      <td>NaN</td>\n",
       "      <td>NaN</td>\n",
       "      <td>NaN</td>\n",
       "      <td>NaN</td>\n",
       "    </tr>\n",
       "    <tr>\n",
       "      <th>88886</th>\n",
       "      <td>20221227106497</td>\n",
       "      <td>Accident</td>\n",
       "      <td>WPR23LA075</td>\n",
       "      <td>2022-12-26</td>\n",
       "      <td>Payson, AZ</td>\n",
       "      <td>United States</td>\n",
       "      <td>341525N</td>\n",
       "      <td>1112021W</td>\n",
       "      <td>PAN</td>\n",
       "      <td>PAYSON</td>\n",
       "      <td>...</td>\n",
       "      <td>Personal</td>\n",
       "      <td>NaN</td>\n",
       "      <td>0.0</td>\n",
       "      <td>0.0</td>\n",
       "      <td>0.0</td>\n",
       "      <td>1.0</td>\n",
       "      <td>VMC</td>\n",
       "      <td>NaN</td>\n",
       "      <td>NaN</td>\n",
       "      <td>27-12-2022</td>\n",
       "    </tr>\n",
       "    <tr>\n",
       "      <th>88887</th>\n",
       "      <td>20221227106498</td>\n",
       "      <td>Accident</td>\n",
       "      <td>WPR23LA076</td>\n",
       "      <td>2022-12-26</td>\n",
       "      <td>Morgan, UT</td>\n",
       "      <td>United States</td>\n",
       "      <td>NaN</td>\n",
       "      <td>NaN</td>\n",
       "      <td>NaN</td>\n",
       "      <td>NaN</td>\n",
       "      <td>...</td>\n",
       "      <td>Personal</td>\n",
       "      <td>MC CESSNA 210N LLC</td>\n",
       "      <td>0.0</td>\n",
       "      <td>0.0</td>\n",
       "      <td>0.0</td>\n",
       "      <td>0.0</td>\n",
       "      <td>NaN</td>\n",
       "      <td>NaN</td>\n",
       "      <td>NaN</td>\n",
       "      <td>NaN</td>\n",
       "    </tr>\n",
       "    <tr>\n",
       "      <th>88888</th>\n",
       "      <td>20221230106513</td>\n",
       "      <td>Accident</td>\n",
       "      <td>ERA23LA097</td>\n",
       "      <td>2022-12-29</td>\n",
       "      <td>Athens, GA</td>\n",
       "      <td>United States</td>\n",
       "      <td>NaN</td>\n",
       "      <td>NaN</td>\n",
       "      <td>NaN</td>\n",
       "      <td>NaN</td>\n",
       "      <td>...</td>\n",
       "      <td>Personal</td>\n",
       "      <td>NaN</td>\n",
       "      <td>0.0</td>\n",
       "      <td>1.0</td>\n",
       "      <td>0.0</td>\n",
       "      <td>1.0</td>\n",
       "      <td>NaN</td>\n",
       "      <td>NaN</td>\n",
       "      <td>NaN</td>\n",
       "      <td>30-12-2022</td>\n",
       "    </tr>\n",
       "  </tbody>\n",
       "</table>\n",
       "<p>88889 rows × 31 columns</p>\n",
       "</div>"
      ],
      "text/plain": [
       "             Event.Id Investigation.Type Accident.Number  Event.Date  \\\n",
       "0      20001218X45444           Accident      SEA87LA080  1948-10-24   \n",
       "1      20001218X45447           Accident      LAX94LA336  1962-07-19   \n",
       "2      20061025X01555           Accident      NYC07LA005  1974-08-30   \n",
       "3      20001218X45448           Accident      LAX96LA321  1977-06-19   \n",
       "4      20041105X01764           Accident      CHI79FA064  1979-08-02   \n",
       "...               ...                ...             ...         ...   \n",
       "88884  20221227106491           Accident      ERA23LA093  2022-12-26   \n",
       "88885  20221227106494           Accident      ERA23LA095  2022-12-26   \n",
       "88886  20221227106497           Accident      WPR23LA075  2022-12-26   \n",
       "88887  20221227106498           Accident      WPR23LA076  2022-12-26   \n",
       "88888  20221230106513           Accident      ERA23LA097  2022-12-29   \n",
       "\n",
       "              Location        Country Latitude Longitude Airport.Code  \\\n",
       "0      MOOSE CREEK, ID  United States      NaN       NaN          NaN   \n",
       "1       BRIDGEPORT, CA  United States      NaN       NaN          NaN   \n",
       "2        Saltville, VA  United States  36.9222  -81.8781          NaN   \n",
       "3           EUREKA, CA  United States      NaN       NaN          NaN   \n",
       "4           Canton, OH  United States      NaN       NaN          NaN   \n",
       "...                ...            ...      ...       ...          ...   \n",
       "88884    Annapolis, MD  United States      NaN       NaN          NaN   \n",
       "88885      Hampton, NH  United States      NaN       NaN          NaN   \n",
       "88886       Payson, AZ  United States  341525N  1112021W          PAN   \n",
       "88887       Morgan, UT  United States      NaN       NaN          NaN   \n",
       "88888       Athens, GA  United States      NaN       NaN          NaN   \n",
       "\n",
       "      Airport.Name  ... Purpose.of.flight         Air.carrier  \\\n",
       "0              NaN  ...          Personal                 NaN   \n",
       "1              NaN  ...          Personal                 NaN   \n",
       "2              NaN  ...          Personal                 NaN   \n",
       "3              NaN  ...          Personal                 NaN   \n",
       "4              NaN  ...          Personal                 NaN   \n",
       "...            ...  ...               ...                 ...   \n",
       "88884          NaN  ...          Personal                 NaN   \n",
       "88885          NaN  ...               NaN                 NaN   \n",
       "88886       PAYSON  ...          Personal                 NaN   \n",
       "88887          NaN  ...          Personal  MC CESSNA 210N LLC   \n",
       "88888          NaN  ...          Personal                 NaN   \n",
       "\n",
       "      Total.Fatal.Injuries Total.Serious.Injuries Total.Minor.Injuries  \\\n",
       "0                      2.0                    0.0                  0.0   \n",
       "1                      4.0                    0.0                  0.0   \n",
       "2                      3.0                    NaN                  NaN   \n",
       "3                      2.0                    0.0                  0.0   \n",
       "4                      1.0                    2.0                  NaN   \n",
       "...                    ...                    ...                  ...   \n",
       "88884                  0.0                    1.0                  0.0   \n",
       "88885                  0.0                    0.0                  0.0   \n",
       "88886                  0.0                    0.0                  0.0   \n",
       "88887                  0.0                    0.0                  0.0   \n",
       "88888                  0.0                    1.0                  0.0   \n",
       "\n",
       "      Total.Uninjured Weather.Condition  Broad.phase.of.flight  \\\n",
       "0                 0.0               UNK                 Cruise   \n",
       "1                 0.0               UNK                Unknown   \n",
       "2                 NaN               IMC                 Cruise   \n",
       "3                 0.0               IMC                 Cruise   \n",
       "4                 0.0               VMC               Approach   \n",
       "...               ...               ...                    ...   \n",
       "88884             0.0               NaN                    NaN   \n",
       "88885             0.0               NaN                    NaN   \n",
       "88886             1.0               VMC                    NaN   \n",
       "88887             0.0               NaN                    NaN   \n",
       "88888             1.0               NaN                    NaN   \n",
       "\n",
       "        Report.Status Publication.Date  \n",
       "0      Probable Cause              NaN  \n",
       "1      Probable Cause       19-09-1996  \n",
       "2      Probable Cause       26-02-2007  \n",
       "3      Probable Cause       12-09-2000  \n",
       "4      Probable Cause       16-04-1980  \n",
       "...               ...              ...  \n",
       "88884             NaN       29-12-2022  \n",
       "88885             NaN              NaN  \n",
       "88886             NaN       27-12-2022  \n",
       "88887             NaN              NaN  \n",
       "88888             NaN       30-12-2022  \n",
       "\n",
       "[88889 rows x 31 columns]"
      ]
     },
     "execution_count": 78,
     "metadata": {},
     "output_type": "execute_result"
    }
   ],
   "source": [
    "aviation_data.head()  # Displaying the first few rows of the aviation data\n",
    "aviation_data.info () # Getting a summary of the aviation data\n",
    "aviation_data"
   ]
  },
  {
   "cell_type": "code",
   "execution_count": 79,
   "metadata": {},
   "outputs": [],
   "source": [
    "# Loading the US State Codes CSV file\n",
    "us_state_codes_file = 'USState_Codes.csv'\n",
    "us_state_codes = pd.read_csv(us_state_codes_file)"
   ]
  },
  {
   "cell_type": "code",
   "execution_count": 80,
   "metadata": {},
   "outputs": [
    {
     "name": "stdout",
     "output_type": "stream",
     "text": [
      "<class 'pandas.core.frame.DataFrame'>\n",
      "RangeIndex: 62 entries, 0 to 61\n",
      "Data columns (total 2 columns):\n",
      " #   Column        Non-Null Count  Dtype \n",
      "---  ------        --------------  ----- \n",
      " 0   US_State      62 non-null     object\n",
      " 1   Abbreviation  62 non-null     object\n",
      "dtypes: object(2)\n",
      "memory usage: 1.1+ KB\n"
     ]
    },
    {
     "data": {
      "text/html": [
       "<div>\n",
       "<style scoped>\n",
       "    .dataframe tbody tr th:only-of-type {\n",
       "        vertical-align: middle;\n",
       "    }\n",
       "\n",
       "    .dataframe tbody tr th {\n",
       "        vertical-align: top;\n",
       "    }\n",
       "\n",
       "    .dataframe thead th {\n",
       "        text-align: right;\n",
       "    }\n",
       "</style>\n",
       "<table border=\"1\" class=\"dataframe\">\n",
       "  <thead>\n",
       "    <tr style=\"text-align: right;\">\n",
       "      <th></th>\n",
       "      <th>US_State</th>\n",
       "      <th>Abbreviation</th>\n",
       "    </tr>\n",
       "  </thead>\n",
       "  <tbody>\n",
       "    <tr>\n",
       "      <th>0</th>\n",
       "      <td>Alabama</td>\n",
       "      <td>AL</td>\n",
       "    </tr>\n",
       "    <tr>\n",
       "      <th>1</th>\n",
       "      <td>Alaska</td>\n",
       "      <td>AK</td>\n",
       "    </tr>\n",
       "    <tr>\n",
       "      <th>2</th>\n",
       "      <td>Arizona</td>\n",
       "      <td>AZ</td>\n",
       "    </tr>\n",
       "    <tr>\n",
       "      <th>3</th>\n",
       "      <td>Arkansas</td>\n",
       "      <td>AR</td>\n",
       "    </tr>\n",
       "    <tr>\n",
       "      <th>4</th>\n",
       "      <td>California</td>\n",
       "      <td>CA</td>\n",
       "    </tr>\n",
       "    <tr>\n",
       "      <th>...</th>\n",
       "      <td>...</td>\n",
       "      <td>...</td>\n",
       "    </tr>\n",
       "    <tr>\n",
       "      <th>57</th>\n",
       "      <td>Virgin Islands</td>\n",
       "      <td>VI</td>\n",
       "    </tr>\n",
       "    <tr>\n",
       "      <th>58</th>\n",
       "      <td>Washington_DC</td>\n",
       "      <td>DC</td>\n",
       "    </tr>\n",
       "    <tr>\n",
       "      <th>59</th>\n",
       "      <td>Gulf of mexico</td>\n",
       "      <td>GM</td>\n",
       "    </tr>\n",
       "    <tr>\n",
       "      <th>60</th>\n",
       "      <td>Atlantic ocean</td>\n",
       "      <td>AO</td>\n",
       "    </tr>\n",
       "    <tr>\n",
       "      <th>61</th>\n",
       "      <td>Pacific ocean</td>\n",
       "      <td>PO</td>\n",
       "    </tr>\n",
       "  </tbody>\n",
       "</table>\n",
       "<p>62 rows × 2 columns</p>\n",
       "</div>"
      ],
      "text/plain": [
       "          US_State Abbreviation\n",
       "0          Alabama           AL\n",
       "1           Alaska           AK\n",
       "2          Arizona           AZ\n",
       "3         Arkansas           AR\n",
       "4       California           CA\n",
       "..             ...          ...\n",
       "57  Virgin Islands           VI\n",
       "58   Washington_DC           DC\n",
       "59  Gulf of mexico           GM\n",
       "60  Atlantic ocean           AO\n",
       "61   Pacific ocean           PO\n",
       "\n",
       "[62 rows x 2 columns]"
      ]
     },
     "execution_count": 80,
     "metadata": {},
     "output_type": "execute_result"
    }
   ],
   "source": [
    "us_state_codes.head(10)  # Showing the first ten rows of the state codes data\n",
    "us_state_codes.info()  # Getting a summary of the state codes data\n",
    "us_state_codes"
   ]
  },
  {
   "cell_type": "markdown",
   "metadata": {},
   "source": [
    "###  **Data Inspection**"
   ]
  },
  {
   "cell_type": "code",
   "execution_count": 81,
   "metadata": {},
   "outputs": [
    {
     "data": {
      "text/plain": [
       "Index(['Event.Id', 'Investigation.Type', 'Accident.Number', 'Event.Date',\n",
       "       'Location', 'Country', 'Latitude', 'Longitude', 'Airport.Code',\n",
       "       'Airport.Name', 'Injury.Severity', 'Aircraft.damage',\n",
       "       'Aircraft.Category', 'Registration.Number', 'Make', 'Model',\n",
       "       'Amateur.Built', 'Number.of.Engines', 'Engine.Type', 'FAR.Description',\n",
       "       'Schedule', 'Purpose.of.flight', 'Air.carrier', 'Total.Fatal.Injuries',\n",
       "       'Total.Serious.Injuries', 'Total.Minor.Injuries', 'Total.Uninjured',\n",
       "       'Weather.Condition', 'Broad.phase.of.flight', 'Report.Status',\n",
       "       'Publication.Date'],\n",
       "      dtype='object')"
      ]
     },
     "execution_count": 81,
     "metadata": {},
     "output_type": "execute_result"
    }
   ],
   "source": [
    "aviation_data.columns"
   ]
  },
  {
   "cell_type": "code",
   "execution_count": 82,
   "metadata": {},
   "outputs": [
    {
     "data": {
      "text/plain": [
       "Index(['US_State', 'Abbreviation'], dtype='object')"
      ]
     },
     "execution_count": 82,
     "metadata": {},
     "output_type": "execute_result"
    }
   ],
   "source": [
    "us_state_codes.columns"
   ]
  },
  {
   "cell_type": "code",
   "execution_count": 83,
   "metadata": {},
   "outputs": [
    {
     "data": {
      "text/plain": [
       "31"
      ]
     },
     "execution_count": 83,
     "metadata": {},
     "output_type": "execute_result"
    }
   ],
   "source": [
    "len(aviation_data.columns)"
   ]
  },
  {
   "cell_type": "code",
   "execution_count": 84,
   "metadata": {},
   "outputs": [
    {
     "data": {
      "text/plain": [
       "2"
      ]
     },
     "execution_count": 84,
     "metadata": {},
     "output_type": "execute_result"
    }
   ],
   "source": [
    "len(us_state_codes.columns)"
   ]
  },
  {
   "cell_type": "code",
   "execution_count": 85,
   "metadata": {},
   "outputs": [
    {
     "data": {
      "text/plain": [
       "(88889, 31)"
      ]
     },
     "execution_count": 85,
     "metadata": {},
     "output_type": "execute_result"
    }
   ],
   "source": [
    "aviation_data.shape"
   ]
  },
  {
   "cell_type": "code",
   "execution_count": 86,
   "metadata": {},
   "outputs": [
    {
     "data": {
      "text/plain": [
       "(62, 2)"
      ]
     },
     "execution_count": 86,
     "metadata": {},
     "output_type": "execute_result"
    }
   ],
   "source": [
    "us_state_codes.shape"
   ]
  },
  {
   "cell_type": "code",
   "execution_count": 87,
   "metadata": {},
   "outputs": [
    {
     "data": {
      "text/html": [
       "<div>\n",
       "<style scoped>\n",
       "    .dataframe tbody tr th:only-of-type {\n",
       "        vertical-align: middle;\n",
       "    }\n",
       "\n",
       "    .dataframe tbody tr th {\n",
       "        vertical-align: top;\n",
       "    }\n",
       "\n",
       "    .dataframe thead th {\n",
       "        text-align: right;\n",
       "    }\n",
       "</style>\n",
       "<table border=\"1\" class=\"dataframe\">\n",
       "  <thead>\n",
       "    <tr style=\"text-align: right;\">\n",
       "      <th></th>\n",
       "      <th>Number.of.Engines</th>\n",
       "      <th>Total.Fatal.Injuries</th>\n",
       "      <th>Total.Serious.Injuries</th>\n",
       "      <th>Total.Minor.Injuries</th>\n",
       "      <th>Total.Uninjured</th>\n",
       "    </tr>\n",
       "  </thead>\n",
       "  <tbody>\n",
       "    <tr>\n",
       "      <th>count</th>\n",
       "      <td>82805.000000</td>\n",
       "      <td>77488.000000</td>\n",
       "      <td>76379.000000</td>\n",
       "      <td>76956.000000</td>\n",
       "      <td>82977.000000</td>\n",
       "    </tr>\n",
       "    <tr>\n",
       "      <th>mean</th>\n",
       "      <td>1.146585</td>\n",
       "      <td>0.647855</td>\n",
       "      <td>0.279881</td>\n",
       "      <td>0.357061</td>\n",
       "      <td>5.325440</td>\n",
       "    </tr>\n",
       "    <tr>\n",
       "      <th>std</th>\n",
       "      <td>0.446510</td>\n",
       "      <td>5.485960</td>\n",
       "      <td>1.544084</td>\n",
       "      <td>2.235625</td>\n",
       "      <td>27.913634</td>\n",
       "    </tr>\n",
       "    <tr>\n",
       "      <th>min</th>\n",
       "      <td>0.000000</td>\n",
       "      <td>0.000000</td>\n",
       "      <td>0.000000</td>\n",
       "      <td>0.000000</td>\n",
       "      <td>0.000000</td>\n",
       "    </tr>\n",
       "    <tr>\n",
       "      <th>25%</th>\n",
       "      <td>1.000000</td>\n",
       "      <td>0.000000</td>\n",
       "      <td>0.000000</td>\n",
       "      <td>0.000000</td>\n",
       "      <td>0.000000</td>\n",
       "    </tr>\n",
       "    <tr>\n",
       "      <th>50%</th>\n",
       "      <td>1.000000</td>\n",
       "      <td>0.000000</td>\n",
       "      <td>0.000000</td>\n",
       "      <td>0.000000</td>\n",
       "      <td>1.000000</td>\n",
       "    </tr>\n",
       "    <tr>\n",
       "      <th>75%</th>\n",
       "      <td>1.000000</td>\n",
       "      <td>0.000000</td>\n",
       "      <td>0.000000</td>\n",
       "      <td>0.000000</td>\n",
       "      <td>2.000000</td>\n",
       "    </tr>\n",
       "    <tr>\n",
       "      <th>max</th>\n",
       "      <td>8.000000</td>\n",
       "      <td>349.000000</td>\n",
       "      <td>161.000000</td>\n",
       "      <td>380.000000</td>\n",
       "      <td>699.000000</td>\n",
       "    </tr>\n",
       "  </tbody>\n",
       "</table>\n",
       "</div>"
      ],
      "text/plain": [
       "       Number.of.Engines  Total.Fatal.Injuries  Total.Serious.Injuries  \\\n",
       "count       82805.000000          77488.000000            76379.000000   \n",
       "mean            1.146585              0.647855                0.279881   \n",
       "std             0.446510              5.485960                1.544084   \n",
       "min             0.000000              0.000000                0.000000   \n",
       "25%             1.000000              0.000000                0.000000   \n",
       "50%             1.000000              0.000000                0.000000   \n",
       "75%             1.000000              0.000000                0.000000   \n",
       "max             8.000000            349.000000              161.000000   \n",
       "\n",
       "       Total.Minor.Injuries  Total.Uninjured  \n",
       "count          76956.000000     82977.000000  \n",
       "mean               0.357061         5.325440  \n",
       "std                2.235625        27.913634  \n",
       "min                0.000000         0.000000  \n",
       "25%                0.000000         0.000000  \n",
       "50%                0.000000         1.000000  \n",
       "75%                0.000000         2.000000  \n",
       "max              380.000000       699.000000  "
      ]
     },
     "execution_count": 87,
     "metadata": {},
     "output_type": "execute_result"
    }
   ],
   "source": [
    "aviation_data.describe()"
   ]
  },
  {
   "cell_type": "code",
   "execution_count": 88,
   "metadata": {},
   "outputs": [
    {
     "data": {
      "text/html": [
       "<div>\n",
       "<style scoped>\n",
       "    .dataframe tbody tr th:only-of-type {\n",
       "        vertical-align: middle;\n",
       "    }\n",
       "\n",
       "    .dataframe tbody tr th {\n",
       "        vertical-align: top;\n",
       "    }\n",
       "\n",
       "    .dataframe thead th {\n",
       "        text-align: right;\n",
       "    }\n",
       "</style>\n",
       "<table border=\"1\" class=\"dataframe\">\n",
       "  <thead>\n",
       "    <tr style=\"text-align: right;\">\n",
       "      <th></th>\n",
       "      <th>US_State</th>\n",
       "      <th>Abbreviation</th>\n",
       "    </tr>\n",
       "  </thead>\n",
       "  <tbody>\n",
       "    <tr>\n",
       "      <th>count</th>\n",
       "      <td>62</td>\n",
       "      <td>62</td>\n",
       "    </tr>\n",
       "    <tr>\n",
       "      <th>unique</th>\n",
       "      <td>62</td>\n",
       "      <td>62</td>\n",
       "    </tr>\n",
       "    <tr>\n",
       "      <th>top</th>\n",
       "      <td>Wyoming</td>\n",
       "      <td>AZ</td>\n",
       "    </tr>\n",
       "    <tr>\n",
       "      <th>freq</th>\n",
       "      <td>1</td>\n",
       "      <td>1</td>\n",
       "    </tr>\n",
       "  </tbody>\n",
       "</table>\n",
       "</div>"
      ],
      "text/plain": [
       "       US_State Abbreviation\n",
       "count        62           62\n",
       "unique       62           62\n",
       "top     Wyoming           AZ\n",
       "freq          1            1"
      ]
     },
     "execution_count": 88,
     "metadata": {},
     "output_type": "execute_result"
    }
   ],
   "source": [
    "us_state_codes.describe()"
   ]
  },
  {
   "cell_type": "markdown",
   "metadata": {},
   "source": [
    "### **Data Cleaning**"
   ]
  },
  {
   "cell_type": "markdown",
   "metadata": {},
   "source": [
    "#### **Missing Values**\n",
    "There are a couple of ways that I will deal with missing data but it is important to note that neither is the optimal way of doing so:\n",
    "\n",
    "  * **Dropping** - Deleting the records with missing values.\n",
    "  * **Filling** - Updating Missing values with values, this values could be actual or approximate."
   ]
  },
  {
   "cell_type": "markdown",
   "metadata": {},
   "source": [
    "#### **Removing Irrelevant Columns**"
   ]
  },
  {
   "cell_type": "code",
   "execution_count": 89,
   "metadata": {},
   "outputs": [],
   "source": [
    "# List of columns to drop that will not be relevant in my analysis)\n",
    "dropped_columnns = [\n",
    "    'Event.Id', 'Accident.Number', 'Airport.Code', 'Airport.Name', \n",
    "    'Registration.Number', 'Report.Status', 'Publication.Date', \n",
    "    'Latitude', 'Longitude', 'Location', 'Country'\n",
    "]\n",
    "\n",
    "# Dropping irrelevant columns\n",
    "cleaned_aviation_data_ = aviation_data.drop(columns=dropped_columnns )\n"
   ]
  },
  {
   "cell_type": "markdown",
   "metadata": {},
   "source": [
    "**I removed these irrelevant columns for several reasons to ensure the dataset is focused on meaningful analysis with respect to my objectives:**\n",
    "\n",
    "1. **Unique Identifiers (`Event.Id`, `Accident.Number`, `Registration.Number`)**: These columns are unique to each incident and don’t contribute to patterns or trends in the analysis. They’re helpful for identification but irrelevant when looking at broader insights like accident causes or severity.\n",
    "\n",
    "2. **Location Information (`Airport.Code`, `Airport.Name`, `Latitude`, `Longitude`, `Location`, `Country`)**: While location-based data could be relevant in some contexts (e.g., analyzing regional trends), for this specific analysis of weather conditions and injuries, they don’t add value. Focusing on the conditions of the incidents, rather than where they happened, will streamlines my analysis.\n",
    "\n",
    "3. **Report Status (`Report.Status`)**: Whether a report is preliminary or final doesn’t influence the factors contributing to incidents or the severity of injuries. It's more of an administrative role.\n",
    "\n",
    "4. **Publication Date (`Publication.Date`)**: The date a report is published doesn’t affect the actual circumstances of the incident or its analysis. It’s not useful when looking at causes or impacts.\n",
    "\n",
    "By dropping these columns, the analysis becomes more focused on critical variables like **weather conditions** and **injury severity**, improving clarity and efficiency."
   ]
  },
  {
   "cell_type": "markdown",
   "metadata": {},
   "source": [
    "#### **Handling Missing Values in Critical Columns**"
   ]
  },
  {
   "cell_type": "code",
   "execution_count": 90,
   "metadata": {},
   "outputs": [],
   "source": [
    "# Define critical columns for our analysis\n",
    "critical_columns = ['Event.Date', 'Injury.Severity', 'Aircraft.Category', 'Weather.Condition', 'Broad.phase.of.flight']\n",
    "\n",
    "# Dropping rows with missing values in critical columns\n",
    "aviation_data_cleaned = cleaned_aviation_data_.dropna(subset=critical_columns)\n"
   ]
  },
  {
   "cell_type": "markdown",
   "metadata": {},
   "source": [
    "#### **Handling Missing Values**: "
   ]
  },
  {
   "cell_type": "code",
   "execution_count": 91,
   "metadata": {},
   "outputs": [
    {
     "name": "stdout",
     "output_type": "stream",
     "text": [
      "(7368, 20)\n"
     ]
    }
   ],
   "source": [
    "# Defining critical columns for our analysis\n",
    "critical_columns = ['Event.Date', 'Injury.Severity', 'Aircraft.Category', 'Weather.Condition', 'Broad.phase.of.flight']\n",
    "\n",
    "# Dropping rows with missing values in critical columns\n",
    "aviation_data_cleaned = aviation_data_cleaned.dropna(subset=critical_columns)\n",
    "\n",
    "# Confirming the dataset shape after dropping missing values\n",
    "print(aviation_data_cleaned.shape)\n"
   ]
  },
  {
   "cell_type": "code",
   "execution_count": 92,
   "metadata": {},
   "outputs": [
    {
     "name": "stdout",
     "output_type": "stream",
     "text": [
      "0        2.0\n",
      "1        4.0\n",
      "2        3.0\n",
      "3        2.0\n",
      "4        1.0\n",
      "        ... \n",
      "88884    0.0\n",
      "88885    0.0\n",
      "88886    0.0\n",
      "88887    0.0\n",
      "88888    0.0\n",
      "Name: Total.Fatal.Injuries, Length: 88889, dtype: float64\n",
      "0        0.0\n",
      "1        0.0\n",
      "2        0.0\n",
      "3        0.0\n",
      "4        2.0\n",
      "        ... \n",
      "88884    1.0\n",
      "88885    0.0\n",
      "88886    0.0\n",
      "88887    0.0\n",
      "88888    1.0\n",
      "Name: Total.Serious.Injuries, Length: 88889, dtype: float64\n",
      "0        0.0\n",
      "1        0.0\n",
      "2        0.0\n",
      "3        0.0\n",
      "4        0.0\n",
      "        ... \n",
      "88884    0.0\n",
      "88885    0.0\n",
      "88886    0.0\n",
      "88887    0.0\n",
      "88888    0.0\n",
      "Name: Total.Minor.Injuries, Length: 88889, dtype: float64\n",
      "0        0.0\n",
      "1        0.0\n",
      "2        0.0\n",
      "3        0.0\n",
      "4        0.0\n",
      "        ... \n",
      "88884    0.0\n",
      "88885    0.0\n",
      "88886    1.0\n",
      "88887    0.0\n",
      "88888    1.0\n",
      "Name: Total.Uninjured, Length: 88889, dtype: float64\n"
     ]
    }
   ],
   "source": [
    "# Cleaning the aviation data\n",
    "\n",
    "# Handling missing values in numerical columns\n",
    "injury_columns = ['Total.Fatal.Injuries', 'Total.Serious.Injuries', 'Total.Minor.Injuries', 'Total.Uninjured']\n",
    "for col in injury_columns:\n",
    "    aviation_data[col] = aviation_data[col].fillna(0)  # Replacing Null values with 0\n",
    "    print(aviation_data[col])"
   ]
  },
  {
   "cell_type": "code",
   "execution_count": 93,
   "metadata": {},
   "outputs": [
    {
     "name": "stdout",
     "output_type": "stream",
     "text": [
      "0            UNK\n",
      "1            UNK\n",
      "2            IMC\n",
      "3            IMC\n",
      "4            VMC\n",
      "          ...   \n",
      "88884    Unknown\n",
      "88885    Unknown\n",
      "88886        VMC\n",
      "88887    Unknown\n",
      "88888    Unknown\n",
      "Name: Weather.Condition, Length: 88889, dtype: object\n",
      "0          Cruise\n",
      "1         Unknown\n",
      "2          Cruise\n",
      "3          Cruise\n",
      "4        Approach\n",
      "           ...   \n",
      "88884     Unknown\n",
      "88885     Unknown\n",
      "88886     Unknown\n",
      "88887     Unknown\n",
      "88888     Unknown\n",
      "Name: Broad.phase.of.flight, Length: 88889, dtype: object\n"
     ]
    }
   ],
   "source": [
    "# Handling missing values in categorical columns (e.g., Weather Condition, Flight Phase)\n",
    "categorical_columns = ['Weather.Condition', 'Broad.phase.of.flight']\n",
    "for col in categorical_columns:\n",
    "    aviation_data[col] = aviation_data[col].fillna('Unknown')  # Replacing NaN with 'Unknown'\n",
    "    print(aviation_data[col])"
   ]
  },
  {
   "cell_type": "code",
   "execution_count": 94,
   "metadata": {},
   "outputs": [
    {
     "name": "stdout",
     "output_type": "stream",
     "text": [
      "VMC        77303\n",
      "IMC         5976\n",
      "Unknown     5610\n",
      "Name: Weather.Condition, dtype: int64\n"
     ]
    }
   ],
   "source": [
    "\n",
    "# Harmonize the values in the specified column\n",
    "aviation_data['Weather.Condition'] = aviation_data['Weather.Condition'].replace(['UNK', 'Unk', 'Unknown'], 'Unknown')\n",
    "print(aviation_data['Weather.Condition'].value_counts())\n"
   ]
  },
  {
   "cell_type": "markdown",
   "metadata": {},
   "source": [
    "#### **Convert Dates and Remove Duplicates**:"
   ]
  },
  {
   "cell_type": "code",
   "execution_count": 95,
   "metadata": {},
   "outputs": [],
   "source": [
    "# Convert 'Event.Date' to datetime format for easier manipulation\n",
    "aviation_data_cleaned['Event.Date'] = pd.to_datetime(aviation_data_cleaned['Event.Date'], errors='coerce')\n"
   ]
  },
  {
   "cell_type": "code",
   "execution_count": 96,
   "metadata": {},
   "outputs": [
    {
     "name": "stdout",
     "output_type": "stream",
     "text": [
      "0\n"
     ]
    }
   ],
   "source": [
    "# Removing duplicate records if any\n",
    "aviation_data_cleaned = aviation_data_cleaned.drop_duplicates()\n",
    "\n",
    "# Confirming no duplicates exist\n",
    "print(aviation_data_cleaned.duplicated().sum())\n"
   ]
  },
  {
   "cell_type": "markdown",
   "metadata": {},
   "source": [
    "#### **Column Renaming**:"
   ]
  },
  {
   "cell_type": "code",
   "execution_count": 97,
   "metadata": {},
   "outputs": [
    {
     "name": "stdout",
     "output_type": "stream",
     "text": [
      "Index(['Investigation.Type', 'event_date', 'injury_severity',\n",
      "       'aircraft_damage', 'aircraft_category', 'aircraft_make',\n",
      "       'aircraft_model', 'amateur_built', 'number_of_engines', 'engine_type',\n",
      "       'far_description', 'schedule', 'purpose_of_flight', 'air_carrier',\n",
      "       'total_fatal_injuries', 'total_serious_injuries',\n",
      "       'total_minor_injuries', 'total_uninjured', 'weather_condition',\n",
      "       'broad_phase_of_flight'],\n",
      "      dtype='object')\n"
     ]
    }
   ],
   "source": [
    "# Renaming columns for better consistency\n",
    "aviation_data_cleaned.rename(columns={\n",
    "    'Event.Date': 'event_date',\n",
    "    'Injury.Severity': 'injury_severity',\n",
    "    'Aircraft.damage': 'aircraft_damage',\n",
    "    'Aircraft.Category': 'aircraft_category',\n",
    "    'Make': 'aircraft_make',\n",
    "    'Model': 'aircraft_model',\n",
    "    'Amateur.Built': 'amateur_built',\n",
    "    'Number.of.Engines': 'number_of_engines',\n",
    "    'Engine.Type': 'engine_type',\n",
    "    'FAR.Description': 'far_description',\n",
    "    'Schedule': 'schedule',\n",
    "    'Purpose.of.flight': 'purpose_of_flight',\n",
    "    'Air.carrier': 'air_carrier',\n",
    "    'Total.Fatal.Injuries': 'total_fatal_injuries',\n",
    "    'Total.Serious.Injuries': 'total_serious_injuries',\n",
    "    'Total.Minor.Injuries': 'total_minor_injuries',\n",
    "    'Total.Uninjured': 'total_uninjured',\n",
    "    'Weather.Condition': 'weather_condition',\n",
    "    'Broad.phase.of.flight': 'broad_phase_of_flight'\n",
    "}, inplace=True)\n",
    "\n",
    "# Displaying the updated column names\n",
    "print(aviation_data_cleaned.columns)\n"
   ]
  },
  {
   "cell_type": "code",
   "execution_count": 98,
   "metadata": {},
   "outputs": [
    {
     "name": "stdout",
     "output_type": "stream",
     "text": [
      "Event.Id                      0\n",
      "Investigation.Type            0\n",
      "Accident.Number               0\n",
      "Event.Date                    0\n",
      "Location                     52\n",
      "Country                     226\n",
      "Latitude                  54507\n",
      "Longitude                 54516\n",
      "Airport.Code              38640\n",
      "Airport.Name              36099\n",
      "Injury.Severity            1000\n",
      "Aircraft.damage            3194\n",
      "Aircraft.Category         56602\n",
      "Registration.Number        1317\n",
      "Make                         63\n",
      "Model                        92\n",
      "Amateur.Built               102\n",
      "Number.of.Engines          6084\n",
      "Engine.Type                7077\n",
      "FAR.Description           56866\n",
      "Schedule                  76307\n",
      "Purpose.of.flight          6192\n",
      "Air.carrier               72241\n",
      "Total.Fatal.Injuries          0\n",
      "Total.Serious.Injuries        0\n",
      "Total.Minor.Injuries          0\n",
      "Total.Uninjured               0\n",
      "Weather.Condition             0\n",
      "Broad.phase.of.flight         0\n",
      "Report.Status              6381\n",
      "Publication.Date          13771\n",
      "dtype: int64\n"
     ]
    }
   ],
   "source": [
    "\n",
    "# Confirming the missing values have been handled\n",
    "print(aviation_data.isnull().sum())"
   ]
  },
  {
   "cell_type": "code",
   "execution_count": 99,
   "metadata": {},
   "outputs": [
    {
     "name": "stdout",
     "output_type": "stream",
     "text": [
      "['mcdonnell douglas' 'cessna' 'bellanca' 'navion' 'beech' 'enstrom'\n",
      " 'smith' 'bell' 'piper' 'grumman' 'beechcraft' 'maule' 'air tractor'\n",
      " 'rockwell' 'aerospatiale' 'mooney' 'boeing' 'curtis' 'schleicher'\n",
      " 'quickie' 'lockheed' 'embraer' 'hughes' 'swearingen' 'de havilland'\n",
      " 'bell helicopter' 'bede aircraft' 'convair' 'beachner' 'canadair'\n",
      " 'douglas' 'sons mustang' 'dassaultsud' 'sikorsky' 'belltextron'\n",
      " 'robertson' 'aeronca' 'smith miniplane' 'mitsubishi' 'mcdonnelldouglas'\n",
      " 'taylorcraft' 'ted smith' 'robinson' 'raven' 'ercoupe' 'rockwell comdr'\n",
      " 'howard aircraft corp' 'porterfield' 'nihon' 'great lakes'\n",
      " 'balloon works' 'pitts' 'fairchild hiller' 'kaman' 'weatherly' 'eagle'\n",
      " 'barnes' 'schweizer' 'starduster ii' 'homebuilt' 'smith mini'\n",
      " 'smith aerostar' 'rockwell intl' 'hiller' 'schreder' 'varga' 'hatz'\n",
      " 'nord aviation' 'crook' 'american yankee' 'helio' 'colonial'\n",
      " 'gulfstream american' 'benson' 'luscombe' 'mckinley eaa' 'airmate'\n",
      " 'blkow' 'snow' 'rockwell commander' 'rotorway' 'gulfstream' 'champion'\n",
      " 'stinson' 'fournier aviation' 'curtisswright' 'aero commander'\n",
      " 'mbbbolkow' 'piperaerostar' 'ryan' 'jurca' 'martinpitts' 'snias'\n",
      " 'goodyear' 'rand' 'rutan' 'burkhart grob flugzeugbah' 'sud aviation'\n",
      " 'avres corp' 'grum amer']\n"
     ]
    }
   ],
   "source": [
    "# Normalize text by converting to lowercase and stripping spaces\n",
    "aviation_data_cleaned['aircraft_make'] = aviation_data_cleaned['aircraft_make'].str.lower().str.strip()\n",
    "\n",
    "# Remove unwanted characters\n",
    "aviation_data_cleaned['aircraft_make'] = aviation_data_cleaned['aircraft_make'].str.replace(r'[^\\w\\s]', '', regex=True)\n",
    "# Print the first 100 unique values\n",
    "print(aviation_data_cleaned['aircraft_make'].unique()[:100])  \n"
   ]
  },
  {
   "cell_type": "code",
   "execution_count": 100,
   "metadata": {},
   "outputs": [],
   "source": [
    "# Filling missing values in the categorical columns with 'Unknown'\n",
    "categorical_columns = ['Location', 'Country', 'Make', 'Model', 'Amateur.Built', \n",
    "                       'Airport.Code', 'Airport.Name', 'Registration.Number', \n",
    "                       'Injury.Severity', 'Aircraft.damage', 'Engine.Type', \n",
    "                       'Purpose.of.flight', 'Aircraft.Category','Schedule' ]\n",
    "for col in categorical_columns:\n",
    "    aviation_data[col] = aviation_data[col].fillna('Unknown')"
   ]
  },
  {
   "cell_type": "code",
   "execution_count": 101,
   "metadata": {},
   "outputs": [],
   "source": [
    "# Filling missing values in 'Number.of.Engines' with the mode.\n",
    "aviation_data['Number.of.Engines'] = aviation_data['Number.of.Engines'].fillna(aviation_data['Number.of.Engines'].mode()[0])\n"
   ]
  },
  {
   "cell_type": "code",
   "execution_count": 102,
   "metadata": {},
   "outputs": [],
   "source": [
    "\n",
    "# Dropping 'Latitude' and 'Longitude' as they might be less relevant to core analysis\n",
    "aviation_data.drop(columns=['Latitude', 'Longitude'], inplace=True)"
   ]
  },
  {
   "cell_type": "code",
   "execution_count": 103,
   "metadata": {},
   "outputs": [],
   "source": [
    "# Step 1: Handling missing values in 'FAR.Description'\n",
    "# Replace missing values with 'UNKNOWN' because it may be critical to have some data for regulatory information.\n",
    "aviation_data['FAR.Description'] = aviation_data['FAR.Description'].fillna('UNKNOWN')"
   ]
  },
  {
   "cell_type": "code",
   "execution_count": 104,
   "metadata": {},
   "outputs": [],
   "source": [
    "# Step 2: Handling missing values in 'Air.carrier'\n",
    "# Replace missing values with 'PRIVATE' assuming that missing values might imply private operators rather than commercial airlines.\n",
    "aviation_data['Air.carrier'] = aviation_data['Air.carrier'].fillna('PRIVATE')"
   ]
  },
  {
   "cell_type": "code",
   "execution_count": 105,
   "metadata": {},
   "outputs": [],
   "source": [
    "# Step 3: Handling missing values in 'Report.Status'\n",
    "# Replace missing values with 'PENDING' because a missing report status likely indicates that the report is not yet complete.\n",
    "aviation_data['Report.Status'] = aviation_data['Report.Status'].fillna('PENDING')"
   ]
  },
  {
   "cell_type": "code",
   "execution_count": 106,
   "metadata": {},
   "outputs": [],
   "source": [
    "# Step 4: Handling missing values in 'Publication.Date'\n",
    "# Replace missing dates with 'Not Published' because this indicates that no publication date is available.\n",
    "aviation_data['Publication.Date'] = aviation_data['Publication.Date'].fillna('Not Published')"
   ]
  },
  {
   "cell_type": "code",
   "execution_count": 107,
   "metadata": {},
   "outputs": [
    {
     "name": "stdout",
     "output_type": "stream",
     "text": [
      "             FAR.Description Air.carrier   Report.Status Publication.Date\n",
      "0                    UNKNOWN     PRIVATE  Probable Cause    Not Published\n",
      "1                    UNKNOWN     PRIVATE  Probable Cause       19-09-1996\n",
      "2                    UNKNOWN     PRIVATE  Probable Cause       26-02-2007\n",
      "3                    UNKNOWN     PRIVATE  Probable Cause       12-09-2000\n",
      "4                    UNKNOWN     PRIVATE  Probable Cause       16-04-1980\n",
      "5          Part 129: Foreign  Air Canada  Probable Cause       19-09-2017\n",
      "6                    UNKNOWN     PRIVATE  Probable Cause       06-11-2001\n",
      "7  Part 91: General Aviation     PRIVATE  Probable Cause       01-01-1982\n",
      "8  Part 91: General Aviation     PRIVATE  Probable Cause       01-01-1982\n",
      "9                    UNKNOWN     PRIVATE  Probable Cause       01-01-1982\n"
     ]
    }
   ],
   "source": [
    "# Display the first few rows to verify changes\n",
    "print(aviation_data[['FAR.Description', 'Air.carrier', 'Report.Status', 'Publication.Date']].head(10))"
   ]
  },
  {
   "cell_type": "markdown",
   "metadata": {},
   "source": [
    "#### **Reasons for Handling Each Column**:\n",
    "\n",
    "  * **FAR.Description**: This column likely describes the Federal Aviation Regulations (FAR) applicable to each event. Replacing missing values with 'UNKNOWN' provides a clear indication that the specific regulation is not known. This is important because regulatory context might be critical in aviation data analysis.\n",
    "\n",
    "  * **Air.carrier**: This field likely identifies the airline or operator involved in the event. Assuming missing values might indicate non-commercial flights (like private or general aviation), replacing with 'PRIVATE' helps to distinguish these from commercial air carriers, which is important for safety and compliance analysis.\n",
    "\n",
    "  * **Report.Status**: This column describes the status of the report (e.g., completed, preliminary, etc.). Using 'PENDING' for missing values suggests that a report is not yet finalized or is under review. This is important for tracking the status of investigations and ensuring accurate reporting.\n",
    "\n",
    "  * **Publication.Date**: The date when the report was published is important for timeline analysis. Replacing missing values with 'Not Published' indicates that there is no available publication date, which could be due to various reasons such as ongoing investigations or unavailability of the report."
   ]
  },
  {
   "cell_type": "code",
   "execution_count": 108,
   "metadata": {},
   "outputs": [
    {
     "name": "stdout",
     "output_type": "stream",
     "text": [
      "Event.Id                  0\n",
      "Investigation.Type        0\n",
      "Accident.Number           0\n",
      "Event.Date                0\n",
      "Location                  0\n",
      "Country                   0\n",
      "Airport.Code              0\n",
      "Airport.Name              0\n",
      "Injury.Severity           0\n",
      "Aircraft.damage           0\n",
      "Aircraft.Category         0\n",
      "Registration.Number       0\n",
      "Make                      0\n",
      "Model                     0\n",
      "Amateur.Built             0\n",
      "Number.of.Engines         0\n",
      "Engine.Type               0\n",
      "FAR.Description           0\n",
      "Schedule                  0\n",
      "Purpose.of.flight         0\n",
      "Air.carrier               0\n",
      "Total.Fatal.Injuries      0\n",
      "Total.Serious.Injuries    0\n",
      "Total.Minor.Injuries      0\n",
      "Total.Uninjured           0\n",
      "Weather.Condition         0\n",
      "Broad.phase.of.flight     0\n",
      "Report.Status             0\n",
      "Publication.Date          0\n",
      "dtype: int64\n"
     ]
    }
   ],
   "source": [
    "# Confirm that all missing values have been handled\n",
    "print(aviation_data.isnull().sum())"
   ]
  },
  {
   "cell_type": "code",
   "execution_count": 109,
   "metadata": {},
   "outputs": [
    {
     "name": "stdout",
     "output_type": "stream",
     "text": [
      "False\n"
     ]
    }
   ],
   "source": [
    "print(aviation_data.isnull().sum().any())"
   ]
  },
  {
   "cell_type": "code",
   "execution_count": 110,
   "metadata": {},
   "outputs": [],
   "source": [
    "\n",
    "# df.dropna() removes missing values\n",
    "aviation_data_cleaned = aviation_data\n",
    "\n",
    "# Save the cleaned DataFrame to a CSV file\n",
    "aviation_data_cleaned.to_csv('cleaned_data.csv', index=False)\n"
   ]
  },
  {
   "cell_type": "markdown",
   "metadata": {},
   "source": [
    "## **Exploratory Data Analysis**"
   ]
  },
  {
   "cell_type": "markdown",
   "metadata": {},
   "source": [
    "#### **Converting Dates to Datetime Format**"
   ]
  },
  {
   "cell_type": "code",
   "execution_count": 111,
   "metadata": {},
   "outputs": [],
   "source": [
    "# Convert 'Event.Date' to datetime format to analyze dates more effectively\n",
    "aviation_data['Event.Date'] = pd.to_datetime(aviation_data['Event.Date'], errors='coerce')"
   ]
  },
  {
   "cell_type": "markdown",
   "metadata": {},
   "source": [
    "#### **Extracting the Year from the Date**"
   ]
  },
  {
   "cell_type": "code",
   "execution_count": 112,
   "metadata": {},
   "outputs": [],
   "source": [
    "# Extract the year from 'Event.Date' to analyze trends over time\n",
    "aviation_data['Event.Year'] = aviation_data['Event.Date'].dt.year"
   ]
  },
  {
   "cell_type": "markdown",
   "metadata": {},
   "source": [
    "#### **Counting the Number of Incidents Per Year**"
   ]
  },
  {
   "cell_type": "code",
   "execution_count": 113,
   "metadata": {},
   "outputs": [],
   "source": [
    "# Count the number of incidents per year\n",
    "incidents_per_year = aviation_data['Event.Year'].value_counts().sort_index()"
   ]
  },
  {
   "cell_type": "markdown",
   "metadata": {},
   "source": [
    "#### **Selected Objectives for Analysis**\n",
    " 1. **Identify Low-Risk Aircraft Types**:\n",
    "\n",
    "This objective is feasible as we can analyze incident rates and severity across different aircraft types using the available dataset.\n",
    "\n",
    " 2. **Analyzing Incident Trends Over Time**:\n",
    "\n",
    "This objective is suitable since the dataset includes event dates, which allows for time series analysis to examine trends over the years.\n",
    "\n",
    " 3. **Assessing the Impact of Flight Phases on Incidents**:\n",
    "\n",
    "This can be analyzed by using the broad_phase_of_flight data to understand which phases are riskier.\n",
    "\n",
    "4. **Investigating the Role of Weather Conditions in Incidents**:\n",
    "\n",
    "This is possible as we have weather_condition data, which will allow us to see how different weather types correlate with incident severity and frequency.\n",
    "\n",
    "#### **Dropping the Following Objectives**\n",
    "\n",
    " 1. **Evaluating Aircraft Age and Maintenance Factors**:\n",
    "\n",
    "Data for aircraft age and specific maintenance records are not clearly available in the provided dataset, making it difficult to analyze these factors accurately.\n",
    "\n",
    " 2. **Geographical Analysis of Incidents**:\n",
    "\n",
    "While this can be insightful, there might be inconsistencies or missing data in geographical fields (latitude, longitude, and location). Given the issues encountered with these fields, this objective might be less feasible.\n",
    "\n",
    " 3. **Identifying Common Incident Causes and Types**:\n",
    "\n",
    "This requires detailed incident cause classification, which may not be fully captured in the dataset. The provided data might not have standardized incident cause categories, leading to potential inconsistencies."
   ]
  },
  {
   "cell_type": "markdown",
   "metadata": {},
   "source": [
    "#### 1. **Identify Low-Risk Aircraft Types**\n",
    "  * **Objective**: Determining which aircraft types have the lowest incident rates and severities."
   ]
  },
  {
   "cell_type": "code",
   "execution_count": 114,
   "metadata": {},
   "outputs": [
    {
     "name": "stdout",
     "output_type": "stream",
     "text": [
      "Index(['Event.Id', 'Investigation.Type', 'Accident.Number', 'Event.Date',\n",
      "       'Location', 'Country', 'Latitude', 'Longitude', 'Airport.Code',\n",
      "       'Airport.Name', 'Injury.Severity', 'Aircraft.damage',\n",
      "       'Aircraft.Category', 'Registration.Number', 'Make', 'Model',\n",
      "       'Amateur.Built', 'Number.of.Engines', 'Engine.Type', 'FAR.Description',\n",
      "       'Schedule', 'Purpose.of.flight', 'Air.carrier', 'Total.Fatal.Injuries',\n",
      "       'Total.Serious.Injuries', 'Total.Minor.Injuries', 'Total.Uninjured',\n",
      "       'Weather.Condition', 'Broad.phase.of.flight', 'Report.Status',\n",
      "       'Publication.Date'],\n",
      "      dtype='object')\n"
     ]
    },
    {
     "name": "stderr",
     "output_type": "stream",
     "text": [
      "c:\\Users\\USER\\anaconda3\\envs\\learn-env\\lib\\site-packages\\IPython\\core\\interactiveshell.py:3145: DtypeWarning: Columns (6,7,28) have mixed types.Specify dtype option on import or set low_memory=False.\n",
      "  has_raised = await self.run_ast_nodes(code_ast.body, cell_name,\n"
     ]
    }
   ],
   "source": [
    "aviation_data = pd.read_csv('AviationData.csv', encoding='latin1')\n",
    "print(aviation_data.columns)\n"
   ]
  },
  {
   "cell_type": "code",
   "execution_count": 115,
   "metadata": {},
   "outputs": [
    {
     "data": {
      "text/plain": [
       "0                           STINSON\n",
       "1                             PIPER\n",
       "2                            CESSNA\n",
       "3                          ROCKWELL\n",
       "4                            CESSNA\n",
       "                    ...            \n",
       "88884                         PIPER\n",
       "88885                      BELLANCA\n",
       "88886    AMERICAN CHAMPION AIRCRAFT\n",
       "88887                        CESSNA\n",
       "88888                         PIPER\n",
       "Name: Make, Length: 88889, dtype: object"
      ]
     },
     "execution_count": 115,
     "metadata": {},
     "output_type": "execute_result"
    }
   ],
   "source": [
    "\n",
    "aviation_data['Make'] = aviation_data['Make'].str.upper().fillna('UNKNOWN')\n",
    "aviation_data['Make']\n"
   ]
  },
  {
   "cell_type": "code",
   "execution_count": 116,
   "metadata": {},
   "outputs": [
    {
     "data": {
      "text/plain": [
       "CESSNA              27149\n",
       "PIPER               14870\n",
       "BEECH                5372\n",
       "BOEING               2745\n",
       "BELL                 2722\n",
       "                    ...  \n",
       "SCHMIDT DONALD L        1\n",
       "HEDEMAN                 1\n",
       "TERRIO                  1\n",
       "AVERYT                  1\n",
       "JOHN GOODMAN            1\n",
       "Name: Make, Length: 7587, dtype: int64"
      ]
     },
     "execution_count": 116,
     "metadata": {},
     "output_type": "execute_result"
    }
   ],
   "source": [
    "# Calculating Incident Counts by Aircraft Make\n",
    "incident_counts = aviation_data['Make'].value_counts()\n",
    "incident_counts"
   ]
  },
  {
   "cell_type": "code",
   "execution_count": 117,
   "metadata": {},
   "outputs": [
    {
     "data": {
      "text/plain": [
       "Make\n",
       "107.5 FLYING CORPORATION    1.0\n",
       "1200                        1.0\n",
       "177MF LLC                   2.0\n",
       "1977 COLFER-CHAN            0.0\n",
       "1ST FTR GP                  1.0\n",
       "                           ... \n",
       "ZUBAIR S KHAN               1.0\n",
       "ZUBER THOMAS P              0.0\n",
       "ZUKOWSKI                    0.0\n",
       "ZWART                       0.0\n",
       "ZWICKER MURRAY R            0.0\n",
       "Name: Severity_Score, Length: 7587, dtype: float64"
      ]
     },
     "execution_count": 117,
     "metadata": {},
     "output_type": "execute_result"
    }
   ],
   "source": [
    "# Assess Incident Severity\n",
    "aviation_data['Total.Fatal.Injuries'] = aviation_data['Total.Fatal.Injuries'].fillna(0)\n",
    "aviation_data['Total.Serious.Injuries'] = aviation_data['Total.Serious.Injuries'].fillna(0)\n",
    "aviation_data['Severity_Score'] = aviation_data['Total.Fatal.Injuries'] + aviation_data['Total.Serious.Injuries']\n",
    "severity_scores = aviation_data.groupby('Make')['Severity_Score'].sum()\n",
    "severity_scores"
   ]
  },
  {
   "cell_type": "code",
   "execution_count": 118,
   "metadata": {},
   "outputs": [
    {
     "data": {
      "text/html": [
       "<div>\n",
       "<style scoped>\n",
       "    .dataframe tbody tr th:only-of-type {\n",
       "        vertical-align: middle;\n",
       "    }\n",
       "\n",
       "    .dataframe tbody tr th {\n",
       "        vertical-align: top;\n",
       "    }\n",
       "\n",
       "    .dataframe thead th {\n",
       "        text-align: right;\n",
       "    }\n",
       "</style>\n",
       "<table border=\"1\" class=\"dataframe\">\n",
       "  <thead>\n",
       "    <tr style=\"text-align: right;\">\n",
       "      <th></th>\n",
       "      <th>Incident_Counts</th>\n",
       "      <th>Severity_Score</th>\n",
       "    </tr>\n",
       "  </thead>\n",
       "  <tbody>\n",
       "    <tr>\n",
       "      <th>107.5 FLYING CORPORATION</th>\n",
       "      <td>1</td>\n",
       "      <td>1.0</td>\n",
       "    </tr>\n",
       "    <tr>\n",
       "      <th>1200</th>\n",
       "      <td>1</td>\n",
       "      <td>1.0</td>\n",
       "    </tr>\n",
       "    <tr>\n",
       "      <th>177MF LLC</th>\n",
       "      <td>1</td>\n",
       "      <td>2.0</td>\n",
       "    </tr>\n",
       "    <tr>\n",
       "      <th>1977 COLFER-CHAN</th>\n",
       "      <td>1</td>\n",
       "      <td>0.0</td>\n",
       "    </tr>\n",
       "    <tr>\n",
       "      <th>1ST FTR GP</th>\n",
       "      <td>1</td>\n",
       "      <td>1.0</td>\n",
       "    </tr>\n",
       "    <tr>\n",
       "      <th>...</th>\n",
       "      <td>...</td>\n",
       "      <td>...</td>\n",
       "    </tr>\n",
       "    <tr>\n",
       "      <th>ZUBAIR S KHAN</th>\n",
       "      <td>1</td>\n",
       "      <td>1.0</td>\n",
       "    </tr>\n",
       "    <tr>\n",
       "      <th>ZUBER THOMAS P</th>\n",
       "      <td>1</td>\n",
       "      <td>0.0</td>\n",
       "    </tr>\n",
       "    <tr>\n",
       "      <th>ZUKOWSKI</th>\n",
       "      <td>1</td>\n",
       "      <td>0.0</td>\n",
       "    </tr>\n",
       "    <tr>\n",
       "      <th>ZWART</th>\n",
       "      <td>1</td>\n",
       "      <td>0.0</td>\n",
       "    </tr>\n",
       "    <tr>\n",
       "      <th>ZWICKER MURRAY R</th>\n",
       "      <td>1</td>\n",
       "      <td>0.0</td>\n",
       "    </tr>\n",
       "  </tbody>\n",
       "</table>\n",
       "<p>7587 rows × 2 columns</p>\n",
       "</div>"
      ],
      "text/plain": [
       "                          Incident_Counts  Severity_Score\n",
       "107.5 FLYING CORPORATION                1             1.0\n",
       "1200                                    1             1.0\n",
       "177MF LLC                               1             2.0\n",
       "1977 COLFER-CHAN                        1             0.0\n",
       "1ST FTR GP                              1             1.0\n",
       "...                                   ...             ...\n",
       "ZUBAIR S KHAN                           1             1.0\n",
       "ZUBER THOMAS P                          1             0.0\n",
       "ZUKOWSKI                                1             0.0\n",
       "ZWART                                   1             0.0\n",
       "ZWICKER MURRAY R                        1             0.0\n",
       "\n",
       "[7587 rows x 2 columns]"
      ]
     },
     "execution_count": 118,
     "metadata": {},
     "output_type": "execute_result"
    }
   ],
   "source": [
    "# Merging Incident Counts and Severity Scores\n",
    "incident_severity_df = pd.DataFrame({'Incident_Counts': incident_counts, 'Severity_Score': severity_scores})\n",
    "incident_severity_df"
   ]
  },
  {
   "cell_type": "code",
   "execution_count": 119,
   "metadata": {},
   "outputs": [
    {
     "data": {
      "text/html": [
       "<div>\n",
       "<style scoped>\n",
       "    .dataframe tbody tr th:only-of-type {\n",
       "        vertical-align: middle;\n",
       "    }\n",
       "\n",
       "    .dataframe tbody tr th {\n",
       "        vertical-align: top;\n",
       "    }\n",
       "\n",
       "    .dataframe thead th {\n",
       "        text-align: right;\n",
       "    }\n",
       "</style>\n",
       "<table border=\"1\" class=\"dataframe\">\n",
       "  <thead>\n",
       "    <tr style=\"text-align: right;\">\n",
       "      <th></th>\n",
       "      <th>Incident_Counts</th>\n",
       "      <th>Severity_Score</th>\n",
       "    </tr>\n",
       "  </thead>\n",
       "  <tbody>\n",
       "    <tr>\n",
       "      <th>CESSNA</th>\n",
       "      <td>27149</td>\n",
       "      <td>14535.0</td>\n",
       "    </tr>\n",
       "    <tr>\n",
       "      <th>PIPER</th>\n",
       "      <td>14870</td>\n",
       "      <td>9748.0</td>\n",
       "    </tr>\n",
       "    <tr>\n",
       "      <th>BEECH</th>\n",
       "      <td>5372</td>\n",
       "      <td>4879.0</td>\n",
       "    </tr>\n",
       "    <tr>\n",
       "      <th>BOEING</th>\n",
       "      <td>2745</td>\n",
       "      <td>10905.0</td>\n",
       "    </tr>\n",
       "    <tr>\n",
       "      <th>BELL</th>\n",
       "      <td>2722</td>\n",
       "      <td>2210.0</td>\n",
       "    </tr>\n",
       "    <tr>\n",
       "      <th>MOONEY</th>\n",
       "      <td>1334</td>\n",
       "      <td>933.0</td>\n",
       "    </tr>\n",
       "    <tr>\n",
       "      <th>ROBINSON</th>\n",
       "      <td>1230</td>\n",
       "      <td>841.0</td>\n",
       "    </tr>\n",
       "    <tr>\n",
       "      <th>GRUMMAN</th>\n",
       "      <td>1172</td>\n",
       "      <td>416.0</td>\n",
       "    </tr>\n",
       "    <tr>\n",
       "      <th>BELLANCA</th>\n",
       "      <td>1045</td>\n",
       "      <td>541.0</td>\n",
       "    </tr>\n",
       "    <tr>\n",
       "      <th>HUGHES</th>\n",
       "      <td>932</td>\n",
       "      <td>432.0</td>\n",
       "    </tr>\n",
       "    <tr>\n",
       "      <th>SCHWEIZER</th>\n",
       "      <td>773</td>\n",
       "      <td>261.0</td>\n",
       "    </tr>\n",
       "    <tr>\n",
       "      <th>AIR TRACTOR</th>\n",
       "      <td>691</td>\n",
       "      <td>196.0</td>\n",
       "    </tr>\n",
       "    <tr>\n",
       "      <th>AERONCA</th>\n",
       "      <td>636</td>\n",
       "      <td>274.0</td>\n",
       "    </tr>\n",
       "    <tr>\n",
       "      <th>MCDONNELL DOUGLAS</th>\n",
       "      <td>608</td>\n",
       "      <td>1842.0</td>\n",
       "    </tr>\n",
       "    <tr>\n",
       "      <th>MAULE</th>\n",
       "      <td>589</td>\n",
       "      <td>173.0</td>\n",
       "    </tr>\n",
       "    <tr>\n",
       "      <th>CHAMPION</th>\n",
       "      <td>519</td>\n",
       "      <td>220.0</td>\n",
       "    </tr>\n",
       "    <tr>\n",
       "      <th>STINSON</th>\n",
       "      <td>439</td>\n",
       "      <td>165.0</td>\n",
       "    </tr>\n",
       "    <tr>\n",
       "      <th>AERO COMMANDER</th>\n",
       "      <td>429</td>\n",
       "      <td>335.0</td>\n",
       "    </tr>\n",
       "    <tr>\n",
       "      <th>DE HAVILLAND</th>\n",
       "      <td>422</td>\n",
       "      <td>541.0</td>\n",
       "    </tr>\n",
       "    <tr>\n",
       "      <th>LUSCOMBE</th>\n",
       "      <td>414</td>\n",
       "      <td>142.0</td>\n",
       "    </tr>\n",
       "  </tbody>\n",
       "</table>\n",
       "</div>"
      ],
      "text/plain": [
       "                   Incident_Counts  Severity_Score\n",
       "CESSNA                       27149         14535.0\n",
       "PIPER                        14870          9748.0\n",
       "BEECH                         5372          4879.0\n",
       "BOEING                        2745         10905.0\n",
       "BELL                          2722          2210.0\n",
       "MOONEY                        1334           933.0\n",
       "ROBINSON                      1230           841.0\n",
       "GRUMMAN                       1172           416.0\n",
       "BELLANCA                      1045           541.0\n",
       "HUGHES                         932           432.0\n",
       "SCHWEIZER                      773           261.0\n",
       "AIR TRACTOR                    691           196.0\n",
       "AERONCA                        636           274.0\n",
       "MCDONNELL DOUGLAS              608          1842.0\n",
       "MAULE                          589           173.0\n",
       "CHAMPION                       519           220.0\n",
       "STINSON                        439           165.0\n",
       "AERO COMMANDER                 429           335.0\n",
       "DE HAVILLAND                   422           541.0\n",
       "LUSCOMBE                       414           142.0"
      ]
     },
     "execution_count": 119,
     "metadata": {},
     "output_type": "execute_result"
    }
   ],
   "source": [
    "# Filter to the top 20 aircraft types by number of incidents for visualization\n",
    "top_n = 20\n",
    "top_incident_severity_df = incident_severity_df.nlargest(top_n, 'Incident_Counts')\n",
    "top_incident_severity_df"
   ]
  },
  {
   "cell_type": "code",
   "execution_count": 120,
   "metadata": {},
   "outputs": [
    {
     "data": {
      "image/png": "[encoded data removed]",
      "text/plain": [
       "<Figure size 720x432 with 1 Axes>"
      ]
     },
     "metadata": {
      "needs_background": "light"
     },
     "output_type": "display_data"
    },
    {
     "data": {
      "image/png": "[encoded data removed]",
      "text/plain": [
       "<Figure size 720x432 with 1 Axes>"
      ]
     },
     "metadata": {
      "needs_background": "light"
     },
     "output_type": "display_data"
    }
   ],
   "source": [
    "# Visualize Top n Incident Rates\n",
    "plt.figure(figsize=(10, 6))\n",
    "plt.barh(top_incident_severity_df.index, top_incident_severity_df['Incident_Counts'], color='#7695FF', edgecolor='#1E201E')\n",
    "plt.xlabel('Number of Incidents')\n",
    "plt.ylabel('Aircraft Make')\n",
    "plt.title(f'Top {top_n} Aircraft Types by Number of Incidents')\n",
    "plt.tight_layout()\n",
    "plt.show()\n",
    "\n",
    "# Visualize Top n Severity Scores\n",
    "plt.figure(figsize=(10, 6))\n",
    "plt.barh(top_incident_severity_df.index, top_incident_severity_df['Severity_Score'], color='#FF8225', edgecolor='#1E201E')\n",
    "plt.xlabel('Severity Score (Fatalities + Serious Injuries)')\n",
    "plt.ylabel('Aircraft Make')\n",
    "plt.title(f'Top {top_n} Aircraft Types by Severity Score')\n",
    "plt.tight_layout()\n",
    "plt.show()"
   ]
  },
  {
   "cell_type": "markdown",
   "metadata": {},
   "source": [
    "\n",
    "### **Observations from the First Graph (Number of Incidents by Aircraft Make)**:\n",
    "\n",
    "1. **CESSNA** has the highest number of incidents, suggesting it might be widely used or more prone to incidents compared to other aircraft types.\n",
    "2. **PIPER** and **BEECH** also have a high number of incidents, indicating they are commonly involved in incidents.\n",
    "3. Aircraft types like **MOONEY** and **NAVION** have relatively lower incident counts, indicating they may be used less frequently or are safer.\n",
    "\n",
    "### **Observations from the Second Graph (Severity Score by Aircraft Make)**:\n",
    "\n",
    "1. **CESSNA** not only has the highest number of incidents but also a high severity score, indicating that incidents involving Cessna aircraft often result in serious outcomes.\n",
    "2. **PIPER** also has a high severity score, similar to its high incident count, which suggests that incidents with Piper aircraft are frequently severe.\n",
    "3. **BELL** and **BOEING** have relatively high severity scores compared to their incident counts, suggesting that while incidents may be less frequent, they are more severe when they do occur.\n",
    "\n",
    "These observations highlight that while some aircraft types like **CESSNA** and **PIPER** are frequently involved in incidents, others like **BELL** and **BOEING** have fewer incidents but tend to have more severe outcomes."
   ]
  },
  {
   "cell_type": "markdown",
   "metadata": {},
   "source": [
    "#### 2. **Analyze Incident Trends Over Time**\n",
    "  * **Objective**: Understand how aviation incidents have changed over time."
   ]
  },
  {
   "cell_type": "code",
   "execution_count": 121,
   "metadata": {},
   "outputs": [
    {
     "data": {
      "text/plain": [
       "0       1948-10-24\n",
       "1       1962-07-19\n",
       "2       1974-08-30\n",
       "3       1977-06-19\n",
       "4       1979-08-02\n",
       "           ...    \n",
       "88884   2022-12-26\n",
       "88885   2022-12-26\n",
       "88886   2022-12-26\n",
       "88887   2022-12-26\n",
       "88888   2022-12-29\n",
       "Name: Event.Date, Length: 88889, dtype: datetime64[ns]"
      ]
     },
     "execution_count": 121,
     "metadata": {},
     "output_type": "execute_result"
    }
   ],
   "source": [
    "# Converting 'Event.Date' column to datetime format\n",
    "aviation_data['Event.Date'] = pd.to_datetime(aviation_data['Event.Date'], errors='coerce')\n",
    "aviation_data['Event.Date']"
   ]
  },
  {
   "cell_type": "code",
   "execution_count": 122,
   "metadata": {},
   "outputs": [
    {
     "data": {
      "text/plain": [
       "0        1948\n",
       "1        1962\n",
       "2        1974\n",
       "3        1977\n",
       "4        1979\n",
       "         ... \n",
       "88884    2022\n",
       "88885    2022\n",
       "88886    2022\n",
       "88887    2022\n",
       "88888    2022\n",
       "Name: Year, Length: 88889, dtype: int64"
      ]
     },
     "execution_count": 122,
     "metadata": {},
     "output_type": "execute_result"
    }
   ],
   "source": [
    "# Extracting year from 'Event.Date'\n",
    "aviation_data['Year'] = aviation_data['Event.Date'].dt.year\n",
    "aviation_data['Year']\n"
   ]
  },
  {
   "cell_type": "code",
   "execution_count": 123,
   "metadata": {},
   "outputs": [
    {
     "data": {
      "text/plain": [
       "1948       1\n",
       "1962       1\n",
       "1974       1\n",
       "1977       1\n",
       "1979       2\n",
       "1981       1\n",
       "1982    3593\n",
       "1983    3556\n",
       "1984    3457\n",
       "1985    3096\n",
       "1986    2880\n",
       "1987    2828\n",
       "1988    2730\n",
       "1989    2544\n",
       "1990    2518\n",
       "1991    2462\n",
       "1992    2355\n",
       "1993    2313\n",
       "1994    2257\n",
       "1995    2309\n",
       "1996    2187\n",
       "1997    2148\n",
       "1998    2226\n",
       "1999    2209\n",
       "2000    2220\n",
       "2001    2063\n",
       "2002    2020\n",
       "2003    2085\n",
       "2004    1952\n",
       "2005    2031\n",
       "2006    1851\n",
       "2007    2016\n",
       "2008    1893\n",
       "2009    1783\n",
       "2010    1786\n",
       "2011    1850\n",
       "2012    1835\n",
       "2013    1561\n",
       "2014    1535\n",
       "2015    1582\n",
       "2016    1664\n",
       "2017    1638\n",
       "2018    1681\n",
       "2019    1624\n",
       "2020    1392\n",
       "2021    1545\n",
       "2022    1607\n",
       "Name: Year, dtype: int64"
      ]
     },
     "execution_count": 123,
     "metadata": {},
     "output_type": "execute_result"
    }
   ],
   "source": [
    "# Aggregating incidents by year\n",
    "incidents_per_year = aviation_data['Year'].value_counts().sort_index()\n",
    "incidents_per_year"
   ]
  },
  {
   "cell_type": "code",
   "execution_count": 124,
   "metadata": {},
   "outputs": [
    {
     "data": {
      "image/png": "[encoded data removed]",
      "text/plain": [
       "<Figure size 720x432 with 1 Axes>"
      ]
     },
     "metadata": {
      "needs_background": "light"
     },
     "output_type": "display_data"
    }
   ],
   "source": [
    "#Plotting the time series\n",
    "plt.figure(figsize=(10, 6))\n",
    "plt.plot(incidents_per_year.index, incidents_per_year.values, marker='o', linestyle='-', color='#3FA2F6')\n",
    "plt.xlabel('Year')\n",
    "plt.ylabel('Number of Incidents')\n",
    "plt.title('Aviation Incidents Over Time')\n",
    "plt.grid(True)\n",
    "plt.tight_layout()\n",
    "plt.show()"
   ]
  },
  {
   "cell_type": "markdown",
   "metadata": {},
   "source": [
    "##### **Summary of Observations**:\n",
    "\n",
    "  * **Pre-1982**: No incidents recorded, likely due to missing data.\n",
    "  * **Mid-1980s Peak**: Highest number of incidents, possibly due to increased aviation activity or reporting.\n",
    "  * **Late 1980s to Early 2000s Decline**: Gradual reduction in incidents, suggesting improved safety and regulations.\n",
    "  * **Post-2000 Stabilization**: Consistent incident numbers, indicating a mature and controlled aviation environment.\n",
    "These observations highlight key periods for further investigation into incident causes and safety improvements."
   ]
  },
  {
   "cell_type": "markdown",
   "metadata": {},
   "source": [
    "#### 3. **Assess the Impact of Flight Phases on Incidents**\n",
    "  * **Objective**: Evaluate which phases of flight are associated with higher risks.\n"
   ]
  },
  {
   "cell_type": "code",
   "execution_count": 125,
   "metadata": {},
   "outputs": [],
   "source": [
    "# Counting incidents by flight phase\n",
    "incident_counts_by_phase = aviation_data['Broad.phase.of.flight'].value_counts()"
   ]
  },
  {
   "cell_type": "code",
   "execution_count": 126,
   "metadata": {},
   "outputs": [
    {
     "data": {
      "image/png": "[encoded data removed]",
      "text/plain": [
       "<Figure size 720x432 with 1 Axes>"
      ]
     },
     "metadata": {
      "needs_background": "light"
     },
     "output_type": "display_data"
    }
   ],
   "source": [
    "# Plot 1: Number of Incidents by Flight Phase\n",
    "plt.figure(figsize=(10, 6))\n",
    "plt.bar(incident_counts_by_phase.index, incident_counts_by_phase.values, color='#1A5319', edgecolor='#1E201E')\n",
    "plt.xlabel('Flight Phase')\n",
    "plt.ylabel('Number of Incidents')\n",
    "plt.title('Number of Incidents by Flight Phase')\n",
    "plt.xticks(rotation=45)  # Rotate x-axis labels for better readability\n",
    "plt.tight_layout()\n",
    "plt.show()"
   ]
  },
  {
   "cell_type": "markdown",
   "metadata": {},
   "source": [
    "##### **Observations from this Graph (Number of Incidents by Flight Phase)**:\n",
    "\n",
    "1. **LANDING**: This phase has the highest number of incidents, indicating that landing is the most critical phase with the most reported incidents.\n",
    "2. **TAKEOFF**: The second-highest number of incidents occurs during takeoff, suggesting this phase also poses significant risks.\n",
    "3. **CRUISE**: This phase shows a considerable number of incidents, making it the third-highest, which indicates that despite being generally safer, cruise still experiences notable risks.\n",
    "4. **APPROACH**: A significant number of incidents occur during approach, highlighting that this preparatory phase for landing is also risky.\n",
    "5. **MANEUVERING**: While not as high as the other phases, maneuvering still shows a notable number of incidents, pointing to risks during in-flight maneuvers.\n"
   ]
  },
  {
   "cell_type": "code",
   "execution_count": 127,
   "metadata": {},
   "outputs": [],
   "source": [
    "# Severity of incidents by flight phase (using injuries as a metric)\n",
    "\n",
    "# Ensuring the injury columns are numeric and then we handle missing values\n",
    "aviation_data['Total.Fatal.Injuries'] = pd.to_numeric(aviation_data['Total.Fatal.Injuries'], errors='coerce').fillna(0)\n",
    "aviation_data['Total.Serious.Injuries'] = pd.to_numeric(aviation_data['Total.Serious.Injuries'], errors='coerce').fillna(0)"
   ]
  },
  {
   "cell_type": "code",
   "execution_count": 128,
   "metadata": {},
   "outputs": [
    {
     "data": {
      "text/plain": [
       "Broad.phase.of.flight\n",
       "Approach       5762.0\n",
       "Climb          2368.0\n",
       "Cruise         8356.0\n",
       "Descent        1386.0\n",
       "Go-around       975.0\n",
       "Landing        1752.0\n",
       "Maneuvering    7235.0\n",
       "Other            98.0\n",
       "Standing        402.0\n",
       "Takeoff        7442.0\n",
       "Taxi            213.0\n",
       "Unknown         795.0\n",
       "Name: Total_Injuries, dtype: float64"
      ]
     },
     "execution_count": 128,
     "metadata": {},
     "output_type": "execute_result"
    }
   ],
   "source": [
    "# Calculating total injuries (fatal + serious) for each flight phase\n",
    "aviation_data['Total_Injuries'] = aviation_data['Total.Fatal.Injuries'] + aviation_data['Total.Serious.Injuries']\n",
    "severity_by_phase = aviation_data.groupby('Broad.phase.of.flight')['Total_Injuries'].sum()\n",
    "severity_by_phase"
   ]
  },
  {
   "cell_type": "code",
   "execution_count": 129,
   "metadata": {},
   "outputs": [
    {
     "data": {
      "image/png": "[encoded data removed]",
      "text/plain": [
       "<Figure size 720x432 with 1 Axes>"
      ]
     },
     "metadata": {
      "needs_background": "light"
     },
     "output_type": "display_data"
    }
   ],
   "source": [
    "# Plot 2: Severity of Incidents by Flight Phase\n",
    "plt.figure(figsize=(10, 6))\n",
    "plt.bar(severity_by_phase.index, severity_by_phase.values, color='#800000', edgecolor='#1E201E')\n",
    "plt.xlabel('Flight Phase')\n",
    "plt.ylabel('Total Injuries (Fatal + Serious)')\n",
    "plt.title('Severity of Incidents by Flight Phase')\n",
    "plt.xticks(rotation=45, ha='right')  # Rotate x-axis labels for better readability\n",
    "plt.tight_layout()\n",
    "plt.show()"
   ]
  },
  {
   "cell_type": "markdown",
   "metadata": {},
   "source": [
    "\n",
    "##### **Observations from this Graph (Severity of Incidents by Flight Phase)**:\n",
    "\n",
    "1. **LANDING**: The severity score for landing incidents is high, but not as high as some other phases, indicating that while landing is common for incidents, not all are highly severe.\n",
    "2. **TAKEOFF**: Takeoff incidents show lower severity compared to landing, suggesting that while takeoff has many incidents, the outcomes may not be as severe.\n",
    "3. **MANEUVERING**: This phase shows a high severity score, indicating that when incidents occur during maneuvering, they are often severe.\n",
    "4. **APPROACH**: Approach incidents also have a high severity score, suggesting that incidents during this phase can lead to serious injuries or fatalities.\n",
    "5. **GO-AROUND**: This phase, although having fewer incidents, shows high severity, indicating that go-around situations can lead to severe outcomes.\n",
    "\n",
    "##### **Combined Insights from the two graphs**:\n",
    "\n",
    "- **LANDING** and **TAKEOFF** phases are associated with the highest number of incidents, indicating frequent challenges during these critical flight operations.\n",
    "- **MANEUVERING**,**CRUISE** and **APPROACH** phases, while having fewer incidents than landing and takeoff, have a high severity, indicating that incidents during these phases are often more serious.\n",
    "- The **GO-AROUND** phase, despite being less common, is associated with high-severity incidents, indicating potential high risks during unexpected maneuvers.\n",
    "\n",
    "These observations highlight the importance of focusing on both frequency and severity of incidents across different flight phases to improve aviation safety effectively."
   ]
  },
  {
   "cell_type": "markdown",
   "metadata": {},
   "source": [
    "#### 4. **Investigate the Role of Weather Conditions in Incidents**\n",
    "  * **Objective**: Determine how weather conditions impact the likelihood and severity of incidents.\n",
    "\n"
   ]
  },
  {
   "cell_type": "code",
   "execution_count": 130,
   "metadata": {},
   "outputs": [
    {
     "data": {
      "text/plain": [
       "0        Unknown\n",
       "1        Unknown\n",
       "2            IMC\n",
       "3            IMC\n",
       "4            VMC\n",
       "          ...   \n",
       "88884        NaN\n",
       "88885        NaN\n",
       "88886        VMC\n",
       "88887        NaN\n",
       "88888        NaN\n",
       "Name: Weather.Condition, Length: 88889, dtype: object"
      ]
     },
     "execution_count": 130,
     "metadata": {},
     "output_type": "execute_result"
    }
   ],
   "source": [
    "# Step 1: Harmonize 'UNK', 'Unk' to 'Unknown' in the Weather.Condition column\n",
    "aviation_data['Weather.Condition'] = aviation_data['Weather.Condition'].replace(['UNK', 'Unk'], 'Unknown')\n",
    "aviation_data['Weather.Condition']\n"
   ]
  },
  {
   "cell_type": "code",
   "execution_count": 131,
   "metadata": {},
   "outputs": [
    {
     "data": {
      "text/plain": [
       "VMC        77303\n",
       "IMC         5976\n",
       "Unknown     1118\n",
       "Name: Weather.Condition, dtype: int64"
      ]
     },
     "execution_count": 131,
     "metadata": {},
     "output_type": "execute_result"
    }
   ],
   "source": [
    "# Counting incidents by weather condition\n",
    "incident_counts_by_weather = aviation_data['Weather.Condition'].value_counts()\n",
    "incident_counts_by_weather"
   ]
  },
  {
   "cell_type": "code",
   "execution_count": 132,
   "metadata": {},
   "outputs": [
    {
     "data": {
      "image/png": "[encoded data removed]",
      "text/plain": [
       "<Figure size 576x360 with 1 Axes>"
      ]
     },
     "metadata": {
      "needs_background": "light"
     },
     "output_type": "display_data"
    }
   ],
   "source": [
    "# Plot 1: Number of Incidents by Weather Condition\n",
    "plt.figure(figsize=(8, 5))\n",
    "plt.bar(incident_counts_by_weather.index, incident_counts_by_weather.values, color='skyblue', edgecolor='black')\n",
    "plt.xlabel('Weather Condition')\n",
    "plt.ylabel('Number of Incidents')\n",
    "plt.title('Number of Incidents by Weather Condition')\n",
    "plt.xticks(rotation=0)  # Aligning labels for better readability\n",
    "plt.tight_layout()\n",
    "plt.show()"
   ]
  },
  {
   "cell_type": "markdown",
   "metadata": {},
   "source": [
    "##### **Observations from the First Graph (Number of Incidents by Weather Condition)**:\n",
    "\n",
    "1. **VMC (Visual Meteorological Conditions)**: The highest number of incidents, indicating most flights occur in these conditions or unexpected challenges arise even in clear weather.\n",
    "2. **IMC (Instrument Meteorological Conditions)**: Fewer incidents than VMC, suggesting careful handling of adverse weather, but still notable.\n",
    "3. **UNK (Unknown)**: Few incidents, likely due to incomplete or unreported weather data."
   ]
  },
  {
   "cell_type": "code",
   "execution_count": 133,
   "metadata": {},
   "outputs": [],
   "source": [
    "# Severity of incidents by weather condition\n",
    "\n",
    "# Ensuring the injury columns are numeric and handle missing values\n",
    "aviation_data['Total.Fatal.Injuries'] = pd.to_numeric(aviation_data['Total.Fatal.Injuries'], errors='coerce').fillna(0)\n",
    "aviation_data['Total.Serious.Injuries'] = pd.to_numeric(aviation_data['Total.Serious.Injuries'], errors='coerce').fillna(0)"
   ]
  },
  {
   "cell_type": "code",
   "execution_count": 134,
   "metadata": {},
   "outputs": [
    {
     "data": {
      "text/plain": [
       "Weather.Condition\n",
       "IMC        13972.0\n",
       "Unknown     3053.0\n",
       "VMC        43006.0\n",
       "Name: Total_Injuries, dtype: float64"
      ]
     },
     "execution_count": 134,
     "metadata": {},
     "output_type": "execute_result"
    }
   ],
   "source": [
    "# Calculating total injuries (fatal + serious) for each weather condition\n",
    "aviation_data['Total_Injuries'] = aviation_data['Total.Fatal.Injuries'] + aviation_data['Total.Serious.Injuries']\n",
    "severity_by_weather = aviation_data.groupby('Weather.Condition')['Total_Injuries'].sum()\n",
    "severity_by_weather"
   ]
  },
  {
   "cell_type": "code",
   "execution_count": 135,
   "metadata": {},
   "outputs": [
    {
     "data": {
      "image/png": "[encoded data removed]",
      "text/plain": [
       "<Figure size 576x360 with 1 Axes>"
      ]
     },
     "metadata": {
      "needs_background": "light"
     },
     "output_type": "display_data"
    }
   ],
   "source": [
    "# Plot 2: Severity of Incidents by Weather Condition\n",
    "plt.figure(figsize=(8, 5))\n",
    "plt.bar(severity_by_weather.index, severity_by_weather.values, color='orange', edgecolor='black')\n",
    "plt.xlabel('Weather Condition')\n",
    "plt.ylabel('Total Injuries (Fatal + Serious)')\n",
    "plt.title('Severity of Incidents by Weather Condition')\n",
    "plt.xticks(rotation=0)  # Aligning labels for better readability\n",
    "plt.tight_layout()\n",
    "plt.show()"
   ]
  },
  {
   "cell_type": "markdown",
   "metadata": {},
   "source": [
    "##### **Observations from this Graph (Severity of Incidents by Weather Condition)**:\n",
    "\n",
    "1. **IMC**: High severity despite fewer incidents, indicating that poor weather significantly increases the seriousness of incidents.\n",
    "2. **VMC**: High number of incidents, with moderate severity, showing that serious outcomes can still occur in good weather.\n",
    "3. **UNK**: Low severity, possibly due to limited data.\n",
    "\n",
    "##### **Combined Insights from the two graphs**:\n",
    "\n",
    "- Most incidents happen under **VMC**, but **IMC** conditions lead to more severe outcomes.\n",
    "- **IMC** highlights the critical need for stringent safety measures in poor weather.\n",
    "- **VMC** incidents suggest that vigilance is necessary even in good weather conditions.\n"
   ]
  },
  {
   "cell_type": "markdown",
   "metadata": {},
   "source": [
    "### **More Visualizations**"
   ]
  },
  {
   "cell_type": "markdown",
   "metadata": {},
   "source": [
    "#### **Heatmap: Correlation Between Injury Types**\n",
    "  * **Objective**: Use a heatmap to visualize correlations between different types of injuries (fatal, serious, minor, and uninjured) to explore the relationships between them."
   ]
  },
  {
   "cell_type": "code",
   "execution_count": 136,
   "metadata": {},
   "outputs": [
    {
     "data": {
      "image/png": "[encoded data removed]",
      "text/plain": [
       "<Figure size 576x432 with 2 Axes>"
      ]
     },
     "metadata": {
      "needs_background": "light"
     },
     "output_type": "display_data"
    }
   ],
   "source": [
    "# Select injury columns\n",
    "injury_columns = ['Total.Fatal.Injuries', 'Total.Serious.Injuries', 'Total.Minor.Injuries', 'Total.Uninjured']\n",
    "\n",
    "# Calculate the correlation matrix\n",
    "correlation_matrix = aviation_data_cleaned[injury_columns].corr()\n",
    "\n",
    "# Plot heatmap of the correlation matrix\n",
    "plt.figure(figsize=(8, 6))\n",
    "sns.heatmap(correlation_matrix, annot=True, cmap='coolwarm', linewidths=0.5)\n",
    "plt.title('Correlation Between Different Types of Injuries')\n",
    "plt.show()\n"
   ]
  },
  {
   "cell_type": "markdown",
   "metadata": {},
   "source": [
    "#### **Observation Based on the Heatmap**:\n",
    "  * **Moderate Positive Correlation Between Fatal and Serious Injuries (0.22):**\n",
    "\n",
    "A moderate positive correlation indicates that incidents with more fatalities tend to also have more serious injuries, which is expected in high-impact incidents.\n",
    "\n",
    "  * **Weak Correlations Between Other Types of Injuries:**\n",
    "\n",
    "The correlations between Total.Serious.Injuries, Total.Minor.Injuries, and Total.Uninjured are weak (0.036, 0.042, 0.098), suggesting little to no linear relationship between these injury types.\n",
    "\n",
    "  * **Weak/Negative Correlations Between Fatal and Other Injuries:**\n",
    "\n",
    "The correlation between Total.Fatal.Injuries and Total.Minor.Injuries (0.036) is very weak, indicating almost no relationship.\n",
    "A weak negative correlation (-0.016) between Total.Fatal.Injuries and Total.Uninjured makes sense, as more fatalities mean fewer uninjured individuals.\n",
    "\n",
    "   **Insights:**\n",
    "   * **Safety Focus:** Reducing severe injuries could also help reduce fatalities.\n",
    "\n",
    "   * **Resource Allocation:** Emergency resources may be better focused on preventing serious injuries and fatalities, as minor injuries are less linked with high-severity incidents."
   ]
  },
  {
   "cell_type": "markdown",
   "metadata": {},
   "source": [
    "#### **Box Plot: Distribution of Incidents by Flight Phase**\n",
    " * **Objective**: Using a box plot to visualize the distribution of incidents across different flight phases (takeoff, landing, etc.) and compare the severity of incidents in each phase."
   ]
  },
  {
   "cell_type": "code",
   "execution_count": 137,
   "metadata": {},
   "outputs": [
    {
     "data": {
      "image/png": "[encoded data removed]",
      "text/plain": [
       "<Figure size 864x432 with 1 Axes>"
      ]
     },
     "metadata": {
      "needs_background": "light"
     },
     "output_type": "display_data"
    }
   ],
   "source": [
    "# Create a box plot for total fatal injuries by flight phase\n",
    "plt.figure(figsize=(12, 6))\n",
    "sns.boxplot(x='Broad.phase.of.flight', y='Total.Fatal.Injuries', data=aviation_data_cleaned)\n",
    "plt.title('Distribution of Total Fatal Injuries by Flight Phase')\n",
    "plt.xlabel('Flight Phase')\n",
    "plt.ylabel('Total Fatal Injuries')\n",
    "plt.xticks(rotation=45)\n",
    "plt.grid(True)\n",
    "plt.show()\n"
   ]
  },
  {
   "cell_type": "markdown",
   "metadata": {},
   "source": [
    "#### **Observations**:\n",
    "  * **Approach** and **Takeoff** seem to be the most dangerous phases with the highest range of fatal injuries and multiple outliers.\n",
    "\n",
    "  * Other phases such as **\"Climb\"** or **\"Cruise\"** have fewer fatal injuries, but still feature occasional extreme incidents.\n",
    "\n",
    "  * Ground phases such as **\"Standing\"** or **\"Taxi\"** result in very few or no fatal incidents, as expected."
   ]
  },
  {
   "cell_type": "markdown",
   "metadata": {},
   "source": [
    "### **Analyzing the relationship between weather conditions and aircraft makes in relation to fatal injuries**"
   ]
  },
  {
   "cell_type": "code",
   "execution_count": 138,
   "metadata": {},
   "outputs": [
    {
     "name": "stdout",
     "output_type": "stream",
     "text": [
      "Weather.Condition\n",
      "IMC        1.978581\n",
      "Unknown    2.285027\n",
      "VMC        0.330621\n",
      "Name: Total.Fatal.Injuries, dtype: float64\n"
     ]
    }
   ],
   "source": [
    "# Group by weather condition and calculate the mean of fatal injuries\n",
    "fatal_injuries_by_weather = aviation_data_cleaned.groupby('Weather.Condition')['Total.Fatal.Injuries'].mean()\n",
    "print(fatal_injuries_by_weather)\n"
   ]
  },
  {
   "cell_type": "code",
   "execution_count": 139,
   "metadata": {},
   "outputs": [
    {
     "data": {
      "image/png": "[encoded data removed]",
      "text/plain": [
       "<Figure size 576x432 with 1 Axes>"
      ]
     },
     "metadata": {
      "needs_background": "light"
     },
     "output_type": "display_data"
    }
   ],
   "source": [
    "# Plot the relationship between weather condition and average fatal injuries\n",
    "plt.figure(figsize=(8, 6))\n",
    "fatal_injuries_by_weather.plot(kind='bar', color='blue')\n",
    "plt.title('Average Fatal Injuries by Weather Condition')\n",
    "plt.xlabel('Weather Condition')\n",
    "plt.ylabel('Average Number of Fatal Injuries')\n",
    "plt.show()"
   ]
  },
  {
   "cell_type": "markdown",
   "metadata": {},
   "source": [
    "#### **Observations and Conclusions**:\n",
    "\n",
    "**Average Fatal Injuries by Weather Condition**\n",
    "\n",
    "  * **Observations**:\n",
    "\n",
    "     * The bar plot shows the average number of fatal injuries grouped by weather conditions.\n",
    "     * Unknown has the highest average number of fatal injuries.\n",
    "     * Instrument Meteorological Conditions (IMC) also has a significant number of fatal injuries but slightly lower than Unknown.\n",
    "     * Visual Meteorological Conditions (VMC) weather conditions have the lowest average fatal injuries.\n",
    "\n",
    "  * **Conclusions**:\n",
    "\n",
    "     * Incidents occurring under IMC (Instrument Meteorological Conditions) are generally more severe, resulting in higher average fatal injuries. This suggests that poor visibility or weather-related conditions contribute significantly to the severity of accidents.\n",
    "     * While VMC (Visual Meteorological Conditions) still show a notable amount of fatal injuries, they are typically less severe than incidents under IMC.\n",
    "     * Incidents where weather conditions are labeled as Unknown have higher fatal injuries on average, potentially indicating  severe conditions that weren't reported."
   ]
  },
  {
   "cell_type": "code",
   "execution_count": 140,
   "metadata": {},
   "outputs": [],
   "source": [
    "# Convert all aircraft makes to the same case (e.g., uppercase) to avoid grouping issues\n",
    "aviation_data_cleaned['Make'] = aviation_data_cleaned['Make'].str.upper()"
   ]
  },
  {
   "cell_type": "code",
   "execution_count": 141,
   "metadata": {},
   "outputs": [],
   "source": [
    "# Fill any NaN values in 'Total.Fatal.Injuries' with 0 if necessary, to prevent them from being excluded\n",
    "aviation_data_cleaned['Total.Fatal.Injuries'] = aviation_data_cleaned['Total.Fatal.Injuries'].fillna(0)\n"
   ]
  },
  {
   "cell_type": "code",
   "execution_count": 142,
   "metadata": {},
   "outputs": [],
   "source": [
    "# Group by aircraft make and calculate the mean of fatal injuries\n",
    "fatal_injuries_by_make = aviation_data_cleaned.groupby('Make')['Total.Fatal.Injuries'].mean().sort_values(ascending=False).head(10)"
   ]
  },
  {
   "cell_type": "code",
   "execution_count": 143,
   "metadata": {},
   "outputs": [
    {
     "data": {
      "image/png": "[encoded data removed]",
      "text/plain": [
       "<Figure size 720x432 with 1 Axes>"
      ]
     },
     "metadata": {
      "needs_background": "light"
     },
     "output_type": "display_data"
    }
   ],
   "source": [
    "# Plot the relationship between aircraft make and average fatal injuries\n",
    "plt.figure(figsize=(10, 6))\n",
    "fatal_injuries_by_make.plot(kind='bar', color='lightgreen')\n",
    "plt.title('Average Fatal Injuries by Aircraft Make')\n",
    "plt.xlabel('Aircraft Make')\n",
    "plt.ylabel('Average Number of Fatal Injuries')\n",
    "plt.xticks(rotation=45)\n",
    "plt.show()"
   ]
  },
  {
   "cell_type": "markdown",
   "metadata": {},
   "source": [
    "### **Observations and Conclusions**:\n",
    "\n",
    "#### **Average Fatal Injuries by Aircraft Make**\n",
    "- **Observations**:\n",
    "  - The bar plot shows the top 10 aircraft manufacturers (makes) with the highest average number of fatal injuries.\n",
    "  - **Cessna** has the highest average number of fatal injuries compared to other makes, followed by **Piper**.\n",
    "  - Other manufacturers like **Beechcraft**, **Boeing**, and **Mooney** have lower average fatal injuries, with many makes showing only marginal differences.\n",
    "\n",
    "- **Conclusions**:\n",
    "  - **Cessna** and **Piper** aircraft models appear to be involved in more fatal incidents compared to other manufacturers. These makes may have a higher incident rate or more severe crashes, potentially due to factors such as fleet size, usage frequency, or type of operations (e.g., general aviation vs. commercial flights).\n",
    "  - **Beechcraft**, **Mooney**, and **Boeing** show relatively fewer fatal injuries on average, which may indicate better safety records or less frequent involvement in fatal incidents.\n",
    "\n",
    "#### **Overall Insights**:\n",
    "- **Weather Conditions**: Poor weather conditions (IMC) are a critical factor contributing to the severity of aviation incidents.\n",
    "- **Aircraft Makes**: Certain manufacturers, especially **Cessna** and **Piper**, show higher average fatal injuries, which could warrant further investigation into operational patterns or safety measures."
   ]
  },
  {
   "cell_type": "markdown",
   "metadata": {},
   "source": [
    "#### **Objective: Assessing the Impact of Weather Conditions on Fatal Injuries**\n",
    "\n",
    " * **Plot**: Scatterplot of Total Fatal Injuries vs. Total Serious Injuries, colored by Weather Conditions.\n",
    "\n",
    " * **Purpose**: This scatterplot helps you understand how weather conditions might relate to both fatal and serious injuries in aviation incidents.\n"
   ]
  },
  {
   "cell_type": "code",
   "execution_count": 144,
   "metadata": {},
   "outputs": [
    {
     "data": {
      "image/png": "[encoded data removed]",
      "text/plain": [
       "<Figure size 720x432 with 1 Axes>"
      ]
     },
     "metadata": {
      "needs_background": "light"
     },
     "output_type": "display_data"
    }
   ],
   "source": [
    "plt.figure(figsize=(10, 6))\n",
    "sns.scatterplot(\n",
    "    x='Total.Serious.Injuries', \n",
    "    y='Total.Fatal.Injuries', \n",
    "    hue='Weather.Condition', \n",
    "    data=aviation_data_cleaned, \n",
    "    palette='coolwarm', \n",
    "   \n",
    ")\n",
    "plt.title('Serious Injuries vs Fatal Injuries by Weather Condition')\n",
    "plt.xlabel('Total Serious Injuries')\n",
    "plt.ylabel('Total Fatal Injuries')\n",
    "plt.legend(title='Weather Condition')\n",
    "plt.grid(True)\n",
    "plt.show()\n"
   ]
  },
  {
   "cell_type": "markdown",
   "metadata": {},
   "source": [
    "#### **Observations** \n",
    " * **IMC** conditions are associated with more severe outcomes in aviation incidents, showing a clear link between high serious injuries and high fatal injuries.\n",
    "\n",
    " * **VMC** incidents tend to be less severe, although outliers exist where fatal injuries are significant even in good weather.\n",
    "\n",
    " * **Unknown** conditions show a tendency for severe incidents, though this could be due to incomplete data reporting."
   ]
  },
  {
   "cell_type": "markdown",
   "metadata": {},
   "source": [
    "#### **Objective: Investigating the Role of Aircraft Models on Fatal Injuries**\n",
    "\n",
    "**Plot**: Scatterplot of Total Fatal Injuries vs. Total Serious Injuries, colored by Aircraft Make.\n",
    "\n",
    "**Purpose**: This scatterplot will help you visualize whether certain aircraft models are more prone to incidents with both serious and fatal injuries."
   ]
  },
  {
   "cell_type": "code",
   "execution_count": 145,
   "metadata": {},
   "outputs": [
    {
     "data": {
      "image/png": "[encoded data removed]",
      "text/plain": [
       "<Figure size 864x432 with 1 Axes>"
      ]
     },
     "metadata": {
      "needs_background": "light"
     },
     "output_type": "display_data"
    }
   ],
   "source": [
    "plt.figure(figsize=(12, 6))\n",
    "sns.scatterplot(\n",
    "    x='Event.Date', \n",
    "    y='Total.Fatal.Injuries', \n",
    "    data=aviation_data_cleaned, \n",
    "    color='red', \n",
    "   \n",
    ")\n",
    "plt.title('Fatal Injuries Over Time')\n",
    "plt.xlabel('Event Date')\n",
    "plt.ylabel('Total Fatal Injuries')\n",
    "plt.grid(True)\n",
    "plt.show()\n"
   ]
  },
  {
   "cell_type": "markdown",
   "metadata": {},
   "source": [
    "#### **Key Takeaways**:\n",
    " * While most incidents are minor in terms of fatalities, the presence of occasional high-fatality incidents suggests that continued attention to aviation safety is necessary.\n",
    "\n",
    " * The outliers in certain years may point to periods of increased risk that warrant further investigation, possibly due to technological, regulatory, or operational changes."
   ]
  }
 ],
 "metadata": {
  "kernelspec": {
   "display_name": "learn-env",
   "language": "python",
   "name": "python3"
  },
  "language_info": {
   "codemirror_mode": {
    "name": "ipython",
    "version": 3
   },
   "file_extension": ".py",
   "mimetype": "text/x-python",
   "name": "python",
   "nbconvert_exporter": "python",
   "pygments_lexer": "ipython3",
   "version": "3.8.5"
  }
 },
 "nbformat": 4,
 "nbformat_minor": 2
}
